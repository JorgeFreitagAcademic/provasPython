{
  "nbformat": 4,
  "nbformat_minor": 0,
  "metadata": {
    "colab": {
      "provenance": [],
      "collapsed_sections": [],
      "authorship_tag": "ABX9TyOG34lD2BahLKAJLbdNckUv",
      "include_colab_link": true
    },
    "kernelspec": {
      "name": "python3",
      "display_name": "Python 3"
    },
    "language_info": {
      "name": "python"
    }
  },
  "cells": [
    {
      "cell_type": "markdown",
      "metadata": {
        "id": "view-in-github",
        "colab_type": "text"
      },
      "source": [
        "<a href=\"https://colab.research.google.com/github/JorgeFreitagAcademic/provasPython/blob/main/prova1_Jorge(Remake).ipynb\" target=\"_parent\"><img src=\"https://colab.research.google.com/assets/colab-badge.svg\" alt=\"Open In Colab\"/></a>"
      ]
    },
    {
      "cell_type": "code",
      "execution_count": null,
      "metadata": {
        "id": "2koHWsD3Bop6"
      },
      "outputs": [],
      "source": []
    },
    {
      "cell_type": "markdown",
      "source": [
        "#Prova de Linguagem da Programaçao III (Python)"
      ],
      "metadata": {
        "id": "1vWZwRlOMoBp"
      }
    },
    {
      "cell_type": "markdown",
      "source": [
        "##Realizada por Jorge H. D. Freitag"
      ],
      "metadata": {
        "id": "J15ygjhtNXQh"
      }
    },
    {
      "cell_type": "markdown",
      "source": [
        "##Bibliotecas Importadas"
      ],
      "metadata": {
        "id": "dPJdCvcbM3Je"
      }
    },
    {
      "cell_type": "code",
      "execution_count": 7,
      "metadata": {
        "id": "NK-SgRIwMnHf"
      },
      "outputs": [],
      "source": [
        "import math\n",
        "import random"
      ]
    },
    {
      "cell_type": "markdown",
      "source": [
        "##Exercícios"
      ],
      "metadata": {
        "id": "dPDmPHFWM-3j"
      }
    },
    {
      "cell_type": "markdown",
      "source": [
        "###1\n"
      ],
      "metadata": {
        "id": "sLlRUDEfNBXZ"
      }
    },
    {
      "cell_type": "markdown",
      "source": [
        "I - Faça um programa que mostre a mensagem \"Esse ano o hexa vem!!!\" na tela.\n"
      ],
      "metadata": {
        "id": "LU4LnLscPi8p"
      }
    },
    {
      "cell_type": "code",
      "source": [
        "print('Esse ano o hexa vem!!!')"
      ],
      "metadata": {
        "colab": {
          "base_uri": "https://localhost:8080/"
        },
        "id": "acQRKC32M-ps",
        "outputId": "c385cc52-24e5-42db-8e02-28012e636cf2"
      },
      "execution_count": null,
      "outputs": [
        {
          "output_type": "stream",
          "name": "stdout",
          "text": [
            "Esse ano o hexa vem!!!\n"
          ]
        }
      ]
    },
    {
      "cell_type": "markdown",
      "source": [
        "II - Faça um programa que peça um número inteiro e então mostre a mensagem \"O número informado foi [número]\". Certifique que seja um número inteiro.\n"
      ],
      "metadata": {
        "id": "ScRfC8ZqPkb4"
      }
    },
    {
      "cell_type": "code",
      "source": [
        "while True:\n",
        "  try:\n",
        "    num = int(input('Digite um número inteiro: '))\n",
        "    print(f'O número informado foi {num}')\n",
        "    break\n",
        "  except ValueError:\n",
        "    print('Deve ser um número inteiro')"
      ],
      "metadata": {
        "colab": {
          "base_uri": "https://localhost:8080/"
        },
        "id": "2YIAKIQePyyb",
        "outputId": "df697030-d8b0-483d-e8b3-8eda6544a224"
      },
      "execution_count": null,
      "outputs": [
        {
          "output_type": "stream",
          "name": "stdout",
          "text": [
            "Digite um número inteiro: a\n",
            "Deve ser um número inteiro\n",
            "Digite um número inteiro: 1\n",
            "O número informado foi 1\n"
          ]
        }
      ]
    },
    {
      "cell_type": "markdown",
      "source": [
        "III - Faça um programa que peça dois números e imprima a soma\n"
      ],
      "metadata": {
        "id": "Yyq6DcgTPlwa"
      }
    },
    {
      "cell_type": "code",
      "source": [
        "numbers = []\n",
        "print('Digite dois valores para receber a soma deles')\n",
        "while True:\n",
        "  try:\n",
        "    while len(numbers) < 2:\n",
        "      num = int(input())\n",
        "      numbers.append(num)\n",
        "    break\n",
        "  except ValueError:\n",
        "    print('Deve ser um número')\n",
        "print(f'A soma dos números é {sum(numbers)}')"
      ],
      "metadata": {
        "colab": {
          "base_uri": "https://localhost:8080/"
        },
        "id": "hG-YILWuPdWw",
        "outputId": "d40b8fd2-4629-4dc7-90c8-bf9129dbc354"
      },
      "execution_count": null,
      "outputs": [
        {
          "output_type": "stream",
          "name": "stdout",
          "text": [
            "Digite dois valores para receber a soma deles\n",
            "14\n",
            "a\n",
            "Deve ser um número\n",
            "g\n",
            "Deve ser um número\n",
            "9\n",
            "A soma dos números é 23\n"
          ]
        }
      ]
    },
    {
      "cell_type": "markdown",
      "source": [
        "IV - Faça um programa que peça 4 notas bimestrais e mostre a média. A média anual é 7,0, informe a mensagem de aluno aprovado ou reprovado"
      ],
      "metadata": {
        "id": "v-DlzD4dPnFo"
      }
    },
    {
      "cell_type": "code",
      "source": [
        "media = []\n",
        "print('Insira as 4 notas bimestrais')\n",
        "while True:\n",
        "  try:\n",
        "    while len(media) < 4:\n",
        "      nota = float(input())\n",
        "      media.append(nota)\n",
        "    break\n",
        "  except ValueError:\n",
        "    print('Deve ser um número')\n",
        "print(f'A média final é {sum(media) / 4}')\n",
        "if sum(media) / 4 >= 7:\n",
        "  print('Aluno aprovado')\n",
        "else:\n",
        "  print('Aluno reprovado')"
      ],
      "metadata": {
        "colab": {
          "base_uri": "https://localhost:8080/"
        },
        "id": "feD3GQHUQ1w8",
        "outputId": "83661d45-61f1-4bb0-97ad-6111187d1cda"
      },
      "execution_count": null,
      "outputs": [
        {
          "output_type": "stream",
          "name": "stdout",
          "text": [
            "Insira as 4 notas bimestrais\n",
            "6.8\n",
            "9\n",
            "5.5\n",
            "7\n",
            "A média final é 7.075\n",
            "Aluno aprovado\n"
          ]
        }
      ]
    },
    {
      "cell_type": "markdown",
      "source": [
        "###2"
      ],
      "metadata": {
        "id": "YNUtqnS5RWyj"
      }
    },
    {
      "cell_type": "markdown",
      "source": [
        "Faça um programa que pergunte quanto você ganha por hora e o número de horas trabalhadas no mês. Calcule e mostre o total do seu salário no referido mês, sabendo-se que são descontados 11% para o Imposto de Renda, 8% para o INSS e 5% para o sindicato, faça um programa que nos dê:"
      ],
      "metadata": {
        "id": "n9rOqZzjRata"
      }
    },
    {
      "cell_type": "markdown",
      "source": [
        "![image.png](data:image/png;base64,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)"
      ],
      "metadata": {
        "id": "2qduSdAWSc3d"
      }
    },
    {
      "cell_type": "code",
      "source": [
        "while True:\n",
        "  try:\n",
        "    salhora = float(input('Informe seu ganho salarial por hora: R$'))\n",
        "    horames = int(input('Informe o número de horas trabalhadas mensalmente: '))\n",
        "    break\n",
        "  except ValueError:\n",
        "    print('Deve ser informado em números')\n",
        "salbruto = salhora * horames\n",
        "ir = salbruto * 0.11\n",
        "inss = salbruto * 0.08\n",
        "sind = salbruto * 0.05\n",
        "salliq = salbruto - (ir + inss + sind)\n",
        "print(f'Os aspectos de: Salário bruto, taxa paga ao imposto de renda, INSS e ao sindicato, e salário líquido se dão por:\\nSalário bruto: R${salbruto}\\nIR: R${ir}\\nINSS: R${inss}\\nSindicato: R${sind}\\nSalário Líquido: R${salliq}')"
      ],
      "metadata": {
        "colab": {
          "base_uri": "https://localhost:8080/"
        },
        "id": "OKlb4p-BSVXa",
        "outputId": "a8b94701-9d36-450b-e8ff-fbb39fa5bafc"
      },
      "execution_count": null,
      "outputs": [
        {
          "output_type": "stream",
          "name": "stdout",
          "text": [
            "Informe seu ganho salarial por hora: R$a\n",
            "Deve ser informado em números\n",
            "Informe seu ganho salarial por hora: R$15\n",
            "Informe o número de horas trabalhadas mensalmente: a\n",
            "Deve ser informado em números\n",
            "Informe seu ganho salarial por hora: R$15\n",
            "Informe o número de horas trabalhadas mensalmente: 160\n",
            "Os aspectos de: Salário bruto, taxa paga ao imposto de renda, INSS e ao sindicato, e salário líquido se dão por:\n",
            "Salário bruto: R$2400.0\n",
            "IR: R$264.0\n",
            "INSS: R$192.0\n",
            "Sindicato: R$120.0\n",
            "Salário Líquido: R$1824.0\n"
          ]
        }
      ]
    },
    {
      "cell_type": "markdown",
      "source": [
        "###3"
      ],
      "metadata": {
        "id": "ovbqMMazVCRa"
      }
    },
    {
      "cell_type": "markdown",
      "source": [
        "Em uma competição de salto em distância cada atleta tem o direito a cinco saltos. No final da série de saltos de cada atleta, o melhor e o pior resultados são eliminados. O seu resultado fica sendo a média dos três valores restantes. Você deve fazer um programa que receba o nome e as cinco distâncias alcançadas pelo atleta em seus saltos e depois informe a média dos saltos conforme a descrição acima informada (retirar o melhor e o pior salto e depois calcular a média). Faça uso de uma lista para armazenar os saltos. Os saltos são informados na ordem da execução, portanto não são ordenados. O programa deve ser encerrado quando não for informado o nome do atleta. A saída do programa deve ser conforme o exempro abaixo:"
      ],
      "metadata": {
        "id": "1oPpLvwJVEeR"
      }
    },
    {
      "cell_type": "markdown",
      "source": [
        "![image.png](data:image/png;base64,iVBORw0KGgoAAAANSUhEUgAAAPQAAAENCAYAAAA4xUibAAAAAXNSR0IArs4c6QAAAARnQU1BAACxjwv8YQUAAAAJcEhZcwAADsMAAA7DAcdvqGQAACorSURBVHhe7Z07TxvPF/fP8+hfoUiICEWiwCncuLFoIgESLeYdQEEJlLm8AqLwCn5JSkhJAe8g0CIlSL8G0bhxEadA+gkRISG3z3POXHZnZu++AN58P9ImxvbOzszOuczxzpn/s7Ky8v8IAFAL/q/5HwBQAyDQANQICDQANQICDUCNGHNQbJP2jzrUUK8HdP3tHX3+of74q9j8eERrd4f07uuleacYOaez+Lf1mRkvD9d0+OEzub2l+0O/HlwFfbn6nr7stGlG/dGns90DOlWvQbqFlg47OqKjf97TsnkrZpne/3NE+1vmT49TOtjdpd3dM+7mYcgre4Js7dORtDc6vtD7VfNZ7RGhitv+5W3yjk8ENcY6ROe7dPanTXvBWDv9JOOIP/tt3nD58ZneyTj7ds1mA7ikCvTymybR1RldU5NW/paBLVZCKaNdOrwiau/s81B/PPQAfmTrbIRqni2gtFuOY9p4HGVmhPLgxLQ9sNBgOFJcbrGSezT7Y5e+v/pC23yLrbvjukEuCZdIaf01uk+4j7rs9gvz5+8z2v2knaVSZYslXdcOvdBn7S4DwkWXU9ENk3JX72O3T12HvDL8+oWucdAuJq533J/dli3DOb/QfXSnMZas8xmnT4tQbaKs7yfvoXw/mkqo687SxW6XWrZ+keus6yzWN74/4XvZY8HFu2ZIVIeCPktx6etK0kKvrlDzRZ+63OmX/93STHOFu16jrcghXT9oYbJaPbWzU9j8yDfwD984dR6XM9eJXLzisvkmtbrR+7vnfWqsT8aKbrZ4KDzc0y/z9/LbL9SZy7bgfrvS3cTGuh6Y+vMZanfM2QXu4+ZHHpgy2J3v9M+tkHGfsDDfRv3FU53FuE/z2aQWK5d+t5zwp9OgjhJ6c+0XbdpQ06VT6nIfNFrO3VldoHlWWDKuhLyxMBqiKFyvg8smduk/Pqa/9XQkBFrc7ZnfXa3xTrp8k8bldssAYgsUaeFLHpR9T2Hkw/NzV4NL3XiILAR104phiCAJD8Y9M49UVivS6Ju0sTRDfRY8q1ouvx6z4mlQSwYvW4k1r10ZsFBa5XTa7RPNLZRodyB0P35SjxXe/Ct95vLbNRVQ+h5ZQe4jVnTl+3R0YuWihdjW7fSMlc9ii1ug0dO47+a+jDoWctjaoDYbpIvIEHDZJ35d6kwg0Mu00uTBG2ltuUkz1HwzhuGhNLRo9DgA47rPZRD3Kzo34YaOiJ1Ds0BQ4uYP6H64KF+EZwlPDkrOGX/RPQtwZOmU9zSg3r/OmX9uSpQzKWKLK4gyjTwqpXyM0lPjiuJ6j2Es5OJ4V38bvkCrAaPdQ9vRMucbn8aXOaJYUOcoObdRbq+aG9tzh42kF3DyXVnfNc/9m6FZb7y9pllnvjw5LunmD//HbrS6H+xe09VxNKdVBJZ++dW8eVVEoCzGziX97A10+TKuqEc/3XqPMBYKeTHLd8ihMRvHGGqOL9DScCfaqw6Zt3lutx5klQeC0did3LlMQdmO5lVzS/PaRVvxUebWxv1b2jBlmPkgu9ZWcDxX98cN3XJNtCWyike/Hhnrzjv3w41XXP7b43tj561CcnqQjW6nKAv3Z8Llt/tOlDtWZMO0S9WPFc4mu9u3bp1KjYUhUVMxVyHznHq1QYPI3a83XpQ7PaKoo5HNnvu+H0WMIrpBFFrjRoSDyCaTHiFPKTvx/jXdLjUTkXRpw8hRbltPCdqYeZ4uV71kgvLddvNc+fBuzfl1QJclUe4wIi+IoOyxEPrE5fvX1Xh9piK9cZQ72Z8FBPfMOz9o1xl1UqLc+f2cfT/yxoJ/ry3286I+S5yfEUGvI1g++ZxJExr1HjuwgSIDQEj+bAWeDylzP/UrBDv5NxBmkAIs9DMn6XJXnE6AvwoINAA1Ai43ADUCAg1AjYBAA1AjINAA1AgINAA1AgINQI2AQANQIyDQANQICDQANQICDUCNgEADUCMg0ADUCAg0ADUCAg1AjYBAA1AjINAA1AgINAA1AgINQI2AQANQIyDQANQICDQANQICDUCNgEADUCMg0ADUiIkk2rebifXP0zdoG4VJlj0p3N0vKm8mB0AFAoFO2fVviJ376ijQiS1phugXKSO5uyeT2P3ycfHaVrpdKWNFtiJ+ojYATapAUyQsyW1V/0aUEmn2Rh6sz0+gR7m/MlZa1MU+W8+KAoFm1B7BZDZIi/c67rasVnf3f3a1tvs+I+W07ul6rk3tF/zZeY+a6229wXw0kH2t77unOWULVii43tt2v2TP2vhll7cmus3+/tghwV7HGWUnBDrY2zkmZ6/jtLJNOVTVnVf3pDukspZ6DSnQpcYCGIahgmKNdT0wd3d36ez3DLU7dif+Uzrg93Z3z3hIprDYVspAnbMu+x7z9140aWVVPhSh6NA8D0opV8q4Xdqj/S11JlNQtvCiTXtqP2X+3rdrGiyu0fvUsg/pmvi7H22987ikn70BzXBdvrxdNu/5LL/dIDqRcuOytzO+6/HjM72Tc865RTKY1flyWCEZpd7FbLYaNLhbYME8oiNzxP09YXLHAhiWAoFmLbzON/3qu6+F2fJZS3Da5cE4t8BDrwQ8aL8by58oc3WFmjxcjyMLc0rfrwbUaFUZvGK5jTD8+Em9hxmaFdO2tcGWoE8XUdmX9PlEBL7FLSzm8us7pSCIhVoN/H/ee+29/HrgeAtGAbx8bf4egbL1NoqhknXmFizMESuqWbayRpGwYmmsfzFKsAwN6kTKoMp5TN5YAEOTKtBigfVN0tYhHCj9rtP9Jwe0Ow43STY3FwsbDZAjFfyqxEOPfjqC9fmDM3V4uKdf5uVQWGtqreTRfixU4vKOUu88Rq13Af1zx2U++U7XVgkWYj0mqwxuqb1TUajB2EkVaIkg2xtVTeuPiOd2mmNcwbgXs+TZTFEg5mU1jJWkeVpQg5e9GDN/tXU+ZM9ibIyt3iGXdPOHaP5VKd+qmJNu9lQIPBrP58ESGRBsoUvNPauiBluD1qKyeW66mjKVKMnymyYL1S3dOEG52/+M4mNrvV3VQvfvaZA2fyxbb+MhZM3xs5Dp0szSRuxpGBe/a70aQQJY4nkUzNs3P3ao4XlI4Cn4n/l/PMjN5zl3xA4PhB0TkTZvZSMuHNH+kcxT98x72ltQbnNe2YWDKKVsiYCX8j6CKLPCjULLXH+N9mSasq4/u2YL3X6pPmSC8xd1HbwIPrvzx2++0J5qk7xhyx+l3iXg6dLhK74uC2xHveG2q4Dwfki9PozJmwJDM5EnxQAAT8PzcbkBACMDgQagRkCgAagREGgAagQEGoAaAYEGoEZAoAGoERBoAGrE9D5YotYAy7K7kk82TRCbRUXhrcEG4HFJEejko47PMn/XmAXaE0phiMX2qoyXFykCLeuadWKIp+hHr21V26X6uU0zUFRTQeByhwvq9fHshHncbO3zgL+lM6fNY1kS+gyQLCkqfdIQ7RJFcLRF1Ptt3gDPHt9CK23cpF7uggffgodZLBOWTlDa/VfCSvkWTcptUffbPa3ZtDyhNQkXBASLCbxkd2lpijJQ51G+BfLblV623x6NX6cYt9+K6236vKqVlPvJAnk8jHKSczs39I6vV6Z/fPS9vL+apzb32eDqjHrNDql0QyXvCRgO30KbLB/ZC9VDCx6kCeJBsL1EfNO0NTgTzS5CWXogNKhjUwiplDRt2nDK/rI+H5WtUgyZjwQRps5cvJ768Iq4HU4SghxU1pXFTvYSQb72Bh3r69qyt/ysJVmcfpJzDun6QU9dbBlWmEepdxFqmecfopV/jvQSyCpLLCWhQxXlkaBBbVFu57JEsxOlG2q+qbbEE1QjcLl1lg89qFIGQEGaIDWAnDWxSlDCBfq5iAa3FveUuqwQ7AL8zY4kETjO0O6btMGWoM+D0Nbs8usxC1GDWmVyZEnWFVEgItRq4AcCxeUeOF7I5b89GlRqVxZl622yg1QUsNcv2aNYbHL7jCIxaZQeJ28Y38szU19W6jbdEJgsqT9bqRxazgCILFdBmqDL/25ZgOOF+pKEjn53I5d4sgzofqSUGXFKnbPfkivL9VLEM4nbfJSaqXNYRq13PgNXCbLiuHCUJKgf+b9D8wA4lnQ6bhJAcaHNwI8Oazkk8wYPdWvdO4s8xx3JbatCmAvrNc3atLoVOf0kmUXj8jY/7lGbPZOo3YG7Pxrjq3fIr7sxJSsEU0O+QLMYrzTZFv250S5hQZog7Ra7EfLkT0qRdVCR5fJ2Tg3O5opRLJsqj1d8tnbPGzzXtTVbfrtGjWFdva0WzwADy2n7QKz1VlULrfN3JTOYlq23BJlYSVZM36umBlEqY4avs7Y4oN6/8fQh9j6Q4K8O+FHuRBSZSURWTcTV/CVEv1NL4CrhjjqRaPdzHrRnvSZ1vCj3Gt07UVCJrsaJ6WXg2WT2Mte+oNkdP9G7Hy0um07HLdcSRGODdvWvrml+yf4GnnY+U9Bv2VHutHqbc4f5Ldi7p2lRZlv/8LPkfVaUqoNzLxt8fbMryGvvfoJJMNYnxXwB1FT/yQMAMCwFLncVdOJ2n01qseUZ3E0yszQAwDLeZ7lTXO7wwRMAwOQYr0ADAJ6UMbrcAICnBgINQI2AQANQIyDQANQICDQANWLqotx2XfKzzKKSgfskGH7GA5Ok+NFPRdnHKCfPUwm0/3gmM8RjmGlP0imk383jkU8h6l7bKrTLO08W7TxR/UFMhoXWz/c2e7AmglIiksZnxAH7/ATaPMf9Z8hnxFtdc94I5YCxMoRAZy8y0E+KyaKFLrXsd0LNHXgBvguaU7b3WcoiAysUbLW37dNqnrUJFhuUtihllJsZ0HaBRkbZCYFOXcwiuB5RiXqbcmSlW3YdU/CEcjQqKT113Xu6nmvrRSHnPWqucz/Ayo9MxaCYDNycFEQKSQ4gK230514aISXMThohPuIBWFS2TUAga5UzkOQLNoWRrFmOlg6GZR/SNfF3Sy1HvKSfvQHNcF2y0vcsv92Is4KYsrOWmHr8+Ezv5JxzbpEMZnW+HFaYR6l3MZKAYnC3wArDJG7g43GymTCL7SgtUXtd7pmMlTg5BhiOagJdkILI0j+31tNNI8SDc5UHUFYaoZJl5yOW2wiDyY+mkgdsbbAl6NNFVPYlfT4RgW+x/StGZXCx2Vtk4P/j5xO7/HrgtMkogHEkFihbb6MYKllnboEspplZmqWuVSSsWBrrQ6yLZg9hO0ilVAgrMLvme3D13SgwMCrVBLogBZGmT10nWCVJ8vRA05k4bv/LuOWlyi7AyWemBv8HJ3D2cE8jrfmy1tRaSTfvmLi8o9Q7j1HrXUD/3Al2nnyna6sES8NTAuPuT8uvDnWm+u/QnmtojlJzsF90/2BeZjF02SUIk/qJAjEvq2GsJM3TgrJk8YC2dT6UtE3jYmz1DtFZVEbLL2bm97/PKnoHYFJUE+iCFET5aFe0sZ6RonaksguQsnluvxaVbd3/4Vw9ld2UbunGmTpEnodxPyshudjS5o9l6208hNIpeg2SlXVmaSO+H8bFdz0sFfcQzyMxb4+FGZHt58PIUW7BT0FkU/OkY39HtuRFuYWobBVQC31BJ9otn+f+9BOUXXogJusk0wr3d3m/TX26lgTzXmql8Pyw3ckyMqPcafVW/T5ElJvJvq7B9ntw3fA+Wko9H+Dcqzgt0Wtup5+CClRn6p4UAwBkU30ODQB4tkCgAagREGgAagQEGoAaAYEGoEZAoAGoERBoAGoEBBqAGoEHS8pgnsTSz0U9n+wtAISkCLR+7LNosf5k0NeWdbLjX7mT81hpWXIebc3MRjJhvDRAipTkD4XYez7MueA5Ebjc5sZKKhm1cmi8C+qfDmmXmyhAH+NXGk+DKKa4XdUFcvntNt/zPvseYNrxLbR6EJ98l1JZpSb1lOYWK5e3hzMTLKJwraD97jFtRw/228+TlkbjLmIIFwSUtrBeG8x7ITn1jkix0FmLFLzFDJ7LzqQssNDtr+7Oy3mt7gjKKeob2W+77OIIUZDbRL1bai/phRtn1FH3r/Q9ARPBs9DLr+b55nT9AfXjhm55KJZb9M4CLzmqrLVQGTD85ZKSymdPViLx57JuuMEDShb9SSIE5RE86EFhy3AVxd7SLQ94t+yS2TVM9pL2Ttb3i+udhcpmwuec/dbKJyojElgum4X5NmrTGfUXO5WXOk4GFswtWaWVkUUmF+7P5j0dqlRPHaWo1f2slGEGjBtPoF+/TLE0lTilA9fyqPW8NhGAQebk5juX//ZoEC7gT4UHXrgO+ORA5aNqvikjGDp7yeEVsVDrrCK+QJWo95Asv12jhpNuR12LFcZMc0UpMotWaMMF2xrrcbaUSopC1j97aZ+qEaccctMkgack+bPV3II30KoiLqAdXEdp64B7P+MAm0rrU34QZ6YvKom1plF+MCc2UFTvkfhzM7GgolYEsfWXxIrlhJo9B0nYeIIsm3XCE2jJYJFIebO6wLYqyGKRgcwn9TwwHmDjDLT46XJ0kruhYEVyLGmCjPKadL1DJammNhNBJ2UsxVaLlZZMQ1wlZv6e+iDo34tvodNS3vAca8abV8fzaS0I+nWEk9Ru82NVS6fzXCXnYTaVbjJdznCu3jKtNHl64VrOkepN9OuO6xe40YKeVjipjLkFG0vJDJnaQyg3b89ka5/vx4B6//p9Yr0PL0UvT1m08nKVmPxsxa+DgB2YHpK/QxdFZN1osIluxlFuiYLHwjC4umYXsBlFTmVgFf9WG5aRFeWu8JtpEMFWeO3Kr3d6JDuMSEvk1/n93i0/6NMw/ZAgfVM9yu3XO1knjS5bBxuzI9BSVpUot3leoB9H/n9JP0Wpl8BTkPmkmBoELK64OQBMDzmPfgbaP7TUAIBnR45AAwCmjeTPVgCAqQUCDUCNgEADUCMg0ADUCAg0ADUCAg1AjZjIz1b2yararI31nvSq+jQXAI9HikAHjzAOkYJoeIF2HikcuyIIH5MsehQyBSXYNUpBFD4Si4eHpp5AoI0wSwoidWPDvyfNpARal5u+PW4FnqlAj5SxJGJMfQSeFF+glcYeJQWRawVDSyEDZpvoRFLd2O/E7mvS0miQgiif8Ql0eC/zMPcSKYieHV5QbPQURKd0kLueWNbbikKQ70i6oXipJlIQPTWb1EpZepkNUhA9RzyBHj0FUTH9c2slzRrnl8UJiJRFQAqiTIZOQcSIhxElOPh9ke3BpIAURM+P5M9WI6YgmiRIQZRk+BREmqhP+Di8W6Ojf3TSRjCdeAI9agqiSYMUREVUSEGUQvmkjeC54lvocaQgGgmkIBppBrpVIQVRCpud8F6DaSP5O3RRRNaNBpvoZhQZDSLFGhvt1j+LuD9JqQhxImWN/3sxUhDl4dc7WSeNLlviF34EOtGu8F5n4txLpCB6VmQ+KaYGAVIQATBVZAp0QvuX1t4AgKciR6ABANNG8mcrAMDUAoEGoEZAoAGoERBoAGoEBBqAGgGBBqBGQKABqBEQaABqBAQagBoBgQagRkCgAagREGgAagQEGoAaAYEGoEZAoAGoERBoAGoEBBqAGgGBBqBGQKABqBEQaABqBAQagBoBgQagRkCgAagREGgAagQEGoAaMeadM9ztc8LN5JKb1U0N3mZzVTeUA+Dx8AXaDFxydkccflfEtWj3Rs1TC3S4U2NyN8ZCVP/onRbDvpB+inbhfGw8hVNhV85gV0wF9jCbanyXuzFLMw8Dopd2y+9Nas0NeIhMO6JMOjTPikpv6K6PqfMU0pCtcnea1Ptm21VSmC0P13To9AmEebrxLbQMjtY9Xc/N0s0HtkL89z51idZda+tburS9jvMt9BmXZ88PLH9oMRJ7LIt17FLLXl8G4wd/4/RU1Lky6HMGe7CHdKr1juoQ1zl972gmZ3/oNCs4nCckfbpNdFJRiC1Sry2i4zJ96GGu27ul9hL3GbdH9glP24MaPC4pQbEb+tmbpxbf6M0WUde7OaGlO6PbpT3a5++WpaGUg5x7SNcPDVp7u2w+YSXAg/6WB4Qtu7/YoS/R50KDOkpRmM9ftGmjzLV//KTewwy1d77Q+1Xzngdfu9U11+XjvM/13Od3i7n8+k6dc/ZbK7eojEhgy7RrSFZXqPnilujNFzo6OtLHP+/5Lj0G3J/Nezr8dk0Dbo9MNw6vBtRolek1MCk8gV5+Na/+v/y3R/OtfWqxdfashQwguqbjyCKf0veKN7F/bq3JJSuOAc0Y93757Ro12OJ+jxTIKR2wYM00V7wBGp9/Sl0WovlXZYbvJX3+sMsDjlio9cD3BYqv5VrMky77DvO0kCr81SjbrtNPIuxVrDMjUyRWck06NsqClSS1ae9jBaFipbhnlcFROSVm6f+wlr1PF08ROwAJ0n+2Eos2x65UV4bXL7p/0G+rAeQNgKN0d3NY/twUuH59z2MQIagShLLWdJetCrFnceQMfHF5bZuOguDZyBS2awRYWcQKlhXXjz7R3EI5K80C+c56FHwcXs2zB1RNqMHzIiHQg7tf/K+2aPFcaIZm7QgPgyhyBPPBoQkGovUYxg4P5GP2LOz1ZB6s56+2TewW62+Oh0m1q39PgxezZEOYoyKe2fQHQP9u0i10FuKKsoXeHsf8L0ANJm9OvEkbbP1jt26cLNNKkz0L13I+3LMvotn8WN1C/7rj6UPgRgtl26U9hIrWUcUG3DjEMr1fbdCg9zOl7KOCWAefu9Wmmd/BNAtMFZ5Av35Z5D7z/M8EwmL31BkoEimOXFYJQsnrrEBUgLh/7ArPr9tydfBtLBHTqF722KP2nzjSfPn1QikqO5VYu7v2LLRYcHWeilRLYE6+5wvf5ddjPX81ZUTu/CTbpTwp937sUbNX/rfwqF3OuWPztsCTMOYnxQAAT0k1lxsA8KyBQANQIyDQANQICDQANQICDUCNgEADUCMg0ADUCAg0ADViuAdL7PreKcpu4a1bnqJ6A1CFQKD95AWKtMH/RAKdSCZQNsGBgyrj5cXzEegw+YFQul9lffoetV+YP6ukHwK1JFWgKco6YQaM89zzk6EyitDICfqepUBvDZM1JIUx9RGYXgrm0GZ97WIrWojgrhtOy7rhP/Dvr/CRc+Uc9ztls51stthvKFgJ5F+75KIQpbTCtiTf88tOWxUlypA/q5JcYNzIckrzship7z69N+368nZTtbl8v4HnSOWgmM6soVPuJGALsbd0G68rVql8/AEys7SnLSR/rlLWsIVKqoUkp11RLJ1sgeFyNqLMHSY7yVaZsk3mFG/p42uafTGg3r/GZgbtUokAHi3VT3mW3zQrLn9sUFvuhWRQWeqojKxnv2eo+ea5tQyUpUCgWYuvN2hw9b3EIGGrJmtx3e+eHCQHiMx7jbur1wqXXKDPZdl8XKlW8sdnOnCWDVYpWy+fbNKKVTxbLWr8vojmouId9M9jNzbxfYUsLWWBH8aV97LAVM0YYjwDPvaWiK7Pqlyf59z2+16aJDCtpAp0I1i7WyXNz+1/+d/1Ft/LWuFK8z0jNHyc/ZZ1ya71126yrjcfYaApF8lPFiseJcAq/ZKwTAtzbp/IMcYURaoPdJsi619JqOM+2d29oNmd8tMYUD9SBVpSsdoBVjVxvJ+0TwvDJDj9JGmC4tRImx/3qE1OeiTJRqk/KoW49Nrt3qTWop+7THD7RB+TiSaPlgaoSuJEUEcqz6GzMXPRpY3YumxtUPvFhDJCilvMQ//eTS0SpRRiay3pdNTrkqj0Suyic7nz3hRDt6s4re84gmKm3uE8WCLhUnbRvJ2/t7bozP3BX0dFgY7na5JUXQJc8tpGgyWrpnYZjWu6Pk/X38bxE0rgTkdlx1by9Eznh9af79Fsz7XQ8fnqd2z7PU/4JCUx153LDQUi0S45xhQU86PnVdMAxfdDHUWbCYDagxREANSIMbrcAICnBgINQI2AQANQIyDQANQICDQANQICDUCNgEADUCMg0ADUiBEE2j59lbN+Vj2yGD4yaZ5umvTyQ1ns/0RLHO2670fDPhr6lGuxQ2yd1FF1BRkYFl+gzU1wB2P6NqcizCaTyYQWKYApx64iy1kk8+iKrxTB47RyVDEMniJ7/JVvvkA3Zmnmgbv/pV1FvEmtuUHKDdEbwg+Xxscs9xtHyh2gscLzXNIqTT3u5v9Vxiorg5023dqVeWob4cfNAOM/yy1uauuerudm6ebDAZ3y3/vUJVpfo/vooX/RYPF64EG4XlrKWHdXC0vn6AUashAhP/OmX3bV7Jxe+YKXRDAoO0wwGNQ70a5cjMcSJesLz8/qM3m/RfdX89Tmeg+uzqjX7HA5brK/oOyg3mLlZKGMkFrnkdpVrc9kiWli32uxWDuzdOGse0/cJ4t7v9V5zoq5YCyEZSSvbepecQzZe9IdIi+bqlOzl7g/a3dl+rzMWCgmZQ59Qz9789RiV2GzRcG6YBlcOumB1l56s/HIrZCboFZBxRrKte6yaknel9RDaWx+lI4055rsJKVdFh5cYfqjmLDeh3pz9mjOyZ3p1puP8oNe6m2nH/pcPz1TQZ+xuOSlAVp+u0F0Yuul673tuKm5KaFGbpdbbz5cYZayW934M5Vuqtxc2Y4DqbMomKiMSPC4bNfSmbEQuec8zrbde83HeDbQHwPREl7Nr7sBzUQebxGjp4TyBHr51bz6XxbZz7f2icXL11KrK9TkIXUcDQpZcjigRkvfxs1Om+jqeOg59eknVytWWazPQrPqpwnySKzL5inDiSy3jJMfEtuCoXJp8eBaW2QvJMsKFPQZD+ncNECXXw+c/jRrzksPEGHIdhn8XGsuPHVy2yzryWmeFsbgXi6/XaOG1xd8LRnkXl0ayuhkY6Z2layzRbLh2HlweZdZJadYXIu/rxRPiieSyegpodKj3D9+Um+OXSmVhucX3T/ot9Uc28t/ZdYXjwtx4ZyyrSs5Fh7uuSVZ8M1nb4LM+u6xRmVH7TPxeoY9d8R2nX4ynoy5dugt6YCpPRzXfBwEls5DYgbKIzDXHuuvGUYR2OP8lto7JYWa63UsySl3TL24vy5YeQ/uskfeuEkItL64DnrFbkyc6kfNo9wGyzGUFgxQ7rpY2bjcdDdySMKEgSJo5qXCye1VPa9XAUP3mXY9yXFLs6YrmYzULhP8lPNVgCcWapkvdsQzMWUrt1h/NB7mFjwhtd5jhEoaqa999oeVzqR+olSeR3nsdEIdPEWhlzOFefbGSbqFzkKl6fHncC5qvhC5RXowVrPfTkohttblLfQl3fxhGbVurFEOEeqmNGgtqrd20bOymV7+d2teleDHDd067p8e6Pq1oqDPyhANiMounE+ldoWodgY4Xo/Mt6taaH+8xOiMrW3aiDyCTdrgdvdZOaWJhpSThMefWMkRf5tX7Xro0U9vGilxEbHC+ZZbBSzp7FHn9/8z/yteszahO/NHKuKOEHeUuHB75r04wnj59ZhW/tlTLtqezAe+sdbeaZlvSSe4kWBJA9SJo5d8sy463AHiruzwx2zVrtlCN/WXC5GkgS0uT5UpkXW2KGvRgEipt1zXzmuDaK2ay3x7lyrsSbjs8xafz/Ve5z+53MOrNdrWHzL5fZaPzLfXaM+Wze26Zgvdfqk+ZGTQOoK0qK8RRbJHaldQNqPKNXWWVMYb/Lm+1/LZNfUX47sVRqFlTtqR++JEj/3xwjhj4R1JlNu22792WLa637vpwl6ZsM+kTh/K9VjYZyrgF8VOHgekIAKgRlRzuQEAzxoINAA1AgINQI2AQANQIyDQANQICDQANQICDUCNgEADUCMg0ADUCAg0ADUCAg1AjYBAA1AjINAA1AgINAA1AgINQI2AQANQIyDQANQICDQANQICDUCNgEADUCMg0ADUCAg0ADUCAg1AjYBAA1AjINAA1AgINAA1AgINQI14Vntbqd36zM6N0YZrE0KutXY35mt4G53pjeGizdplR0zZjdNuyDYmHrPPwPMnsNB2m0znGHE7ziqcfjL7/WbtC602Px/jvs1jZZP2WZjj/a0dYZ4ghX0G/ipSXe54UJ5Rf7FDX0bY2/ivYXWB5qlP3awtYu3G62O0zgCEBC633sN59ofdu1j/3ey5rlxyD1zPzQv2140/D8s2+/y+vEgM8qQ7nNyrWOO7tf6+wYHLm9if2q97uOdwuf2bHVS7ydv/2JLnFst1t+mYLl7uRd/xrx3U++GaDj8k90LOm0LotlHQH6CO5AfFVleoyQPp9j87SGRwdWieB6W14LdLe7Tv7LS/vz7PA8da+N3UAVYd2TSdy/t2zWIqm3vb8v056gYLhr3u4RVRe+s911iz+ZGF4g/PX83nnovKwri3dBuXe96nxnr+7vwWERY1NVFKrKE2Ng+nKkVu8Qz3oQijrveAGtwWW+/ltxtEJ6Zeu4d0TW3ahscEMkgV6Ma6GZQ7TeqxcEbWQgSch9RxJKSn9F0GYMud1c5Q880TDDh2aQ8c5XH5b48GL2bptfzBArK2yIog1d1lJbXaYMv5PbasJwcsfOXacfn1XaQE2LbGSqGKa/37LFJ8Xr3l768HjlW9pJ+9Ac28tJ+WQ9cR1vlvIGcOzdbgIRjUjVmaedGmPWuF+HDdVGVJ2YoSWxz9+WMGsMR7iOt1JBFl80kZYi/kmaECgXG7/P4GwCfH5b5kjd5nd3DDF0qZw1krlGaNbPCHj8OreXZBH0eolUvN3kNUN+Wel2f+lWuNl2lhzrx8UngKw4qJoimOdskByCJ/Dn3yna10g9bsnO2kS3220GXncJf/3ZpXMZHgqHlrRWvz44ZueZ7aiubsAX9uTLCIrfWWY6GD82TeawNQkRvrKq6tDWq/6NPFWOb/oxN5D2ytt4ew0HqeXy4mAKabgig3o6K3Euiyc7BkxDmKygYR7kSkWdxH6wqzpT/rNakTRbnTI9n5UXSnfLdspn91TfNLs3Rho87ueTxnPbxbU9FlW7aOBNuzwwh5CVT5aVHu/Hap67qRftWOuN5+vfp0zV5Pu2Kf6TIQ5f4beFZPigEARiPf5QYATBUQaABqBAQagBoBgQagRkCgAagREGgAagQEGoAaAYEGoEZM9sGS4KmnUtgnvsacque5o9dMJ59Q854US+kTpCACLqmPfrpJANIGUWmmSqCDtj/a9c11Za12txU8ZhuTeEQ0IC/BwWRIeew0I/lCOv75UEbjIdXlftIURE+SqkcGl58AQYQrTtwwSS7p8wfT3pMDvvY0PW/tJpvgo7QwixLLS5QBhuV/5v8MftH9A9G8+UthLaj5M2HJEgs0ZOG/xlqRY9qO3Eg33U6R++gvVDA413fP5xJKL0ZYfrtGDbEubjtYuA7My4R1DDyPvHapc5s9z3KF7/ntEiGp4NEUEPaZ298W3W/jvW4uZjXbWXR/JVHGGu2pRBlFNRDl26J7WaTC7RpcnVGv2eHyhlhQU0Pyg2KJFETcmSzMt1kWXAa6m4IoZU2ypNtRwsGfh+l2clP18Pe21Yoh5zuOEMrA7czF66FVCqKdMmuxl2mlyQOj97OkdUknq106A0mTVpyli69fOtdjBeimP1JryP+J+2QkgrKrpFaaOA/3bC5i1FLbuYWS7W7oFWfcnpmljlodWDbDTN1JFeisFETWkn2PNPwpHUinNlfUjdjsyGL843wt6QhhmG4nj+U3TZp56NFPU/Zply1/dO4mbbC27rO7boXy8uuxWsuduXZ63GS1i+t04Q22TWqxNbRrrTdbkvo3toyXXy+oHyiA4WC3tmRqJa1Ih7HOTg61Kuutzbr6jejesKHwvLoi2Bqfmdp64xHkzKFTUhAJURKB4fAsoZovlxtISoM7A10EgX53nXMHdB97949OXrtE+VilR1stakT11plRIgWqjuT65lGYXGolk7gxsv637BGVFWptCOJ2t6grOdlGHFsg1+XOSEEUuEXLr7wZ9uTo37PIzvCg0YNAzfncOS9/NutJwmuadaP1mVzSzR8+2wrcJFAWSSsjZZG7vgqLg5D2GN9c8NFSK0kbzctSqACgbe8B/eJxNLhznXAwDPlz6CAFkXYlfVfJdXV/3bHIRYKh59tBCGtotDsf59byXcRT6vKc2k9/G04Psjk947l+mFqJ559e1DVSZMO0S+onCofdbZ7nx3XS6Y8a65PIu1Y+tZIExUZN6Lj5kT0LZ0qkkWi2lJ1vuW2QMM4mC4alegoiCXw5A9qPRpvfVJVllKjjBc3usDtlhM9Gg9N/b5ToZU46neC6Gj8y60e5K0Ztw/K96H3QrvMeNdeTUe7c31FN+aKUCqP3Mh9XEXD3ug5R3Qr6jPHLTo8EDxXlDn/NSP3d3tY/vG7QrtRzs5A2r9G9lNfgOqzeq756XeYe/AVMTQqiNKFRA5GqDAYA6k2+y/1sSJv7SbSYbQ7mXQBETE+SwBSXG48LAuAzPQINAChkSlxuAEAZINAA1AgINAC1gej/A5qfgCNzpGJ3AAAAAElFTkSuQmCC)"
      ],
      "metadata": {
        "id": "b5rLjgazV1bE"
      }
    },
    {
      "cell_type": "code",
      "source": [
        "saltos = []\n",
        "while True:\n",
        "  try:\n",
        "    nome = input('Nome e Sobrenome do atleta: ')\n",
        "    while len(saltos) < 5:\n",
        "      salto = float(input('Insira a distância do salto em metros: '))\n",
        "      saltos.append(salto)\n",
        "    break\n",
        "  except ValueError:\n",
        "    print('As distâncias devem ser informadas em números')\n",
        "maiorsalto = round(max(saltos), 1)\n",
        "menorsalto = round(min(saltos), 1)\n",
        "media = (sum(saltos) - maiorsalto - menorsalto)/ 3\n",
        "print(f'Atleta: {nome}\\n\\nPrimeiro Salto: {round(saltos[0], 1)}m\\nSegundo Salto: {round(saltos[1], 1)}m\\nTerceiro Salto: {round(saltos[2], 1)}m\\nQuarto Salto: {round(saltos[3], 1)}m\\nQuinto Salto: {round(saltos[4], 1)}m\\n\\nMelhor Salto: {maiorsalto}m\\nPior Salto: {menorsalto}m\\nMédia dos demais saltos: {round(media, 1)}m\\n\\nResultado final:\\n{nome}: {round(media, 1)}m')"
      ],
      "metadata": {
        "colab": {
          "base_uri": "https://localhost:8080/"
        },
        "id": "WmcfW4IHWSY7",
        "outputId": "fd9d9051-aa1c-4082-aee3-8c8b86251245"
      },
      "execution_count": null,
      "outputs": [
        {
          "output_type": "stream",
          "name": "stdout",
          "text": [
            "Nome e Sobrenome do atleta: Roger Federer\n",
            "Insira a distância do salto em metros: 3.8\n",
            "Insira a distância do salto em metros: 4.9\n",
            "Insira a distância do salto em metros: 5.2\n",
            "Insira a distância do salto em metros: 4.4\n",
            "Insira a distância do salto em metros: 6.2\n",
            "Atleta: Roger Federer\n",
            "\n",
            "Primeiro Salto: 3.8m\n",
            "Segundo Salto: 4.9m\n",
            "Terceiro Salto: 5.2 m\n",
            "Quarto Salto: 4.4m\n",
            "Quinto Salto: 6.2m\n",
            "\n",
            "Melhor Salto:6.2m\n",
            "Pior Salto:3.8m\n",
            "Média dos demais saltos:4.8m\n",
            "\n",
            "Resultado final:\n",
            "Roger Federer: 4.8m\n"
          ]
        }
      ]
    },
    {
      "cell_type": "markdown",
      "source": [
        "###4"
      ],
      "metadata": {
        "id": "7f8WY2x-dM-p"
      }
    },
    {
      "cell_type": "markdown",
      "source": [
        "**Criando jogo da forca**"
      ],
      "metadata": {
        "id": "GzQrzO-YdPFA"
      }
    },
    {
      "cell_type": "markdown",
      "source": [
        "Jogo tradicional: O jogo da forca é um jogo em que o jogador tem que acertar qual é a palavra proposta, tendo como diga o número de letras e a posição de cada uma. Conforme acerta uma determinada letra, a mesma é revelada bem como sua posição. A cada letra errada, é desenhado uma parte do corpo enforcado"
      ],
      "metadata": {
        "id": "1C7a21AGddCh"
      }
    },
    {
      "cell_type": "markdown",
      "source": [
        "![image.png](data:image/png;base64,iVBORw0KGgoAAAANSUhEUgAAAl4AAAD3CAYAAADMrVqJAAAAAXNSR0IArs4c6QAAAARnQU1BAACxjwv8YQUAAAAJcEhZcwAADsMAAA7DAcdvqGQAAGwYSURBVHhe7b0/TxvLF/B/nkdPZSEhIisSBU7hxo1FEwmQaDHvAArKhDLJfQU3Cq/gm5sSUlLAO8C0SGDpNsiNGxcxRaQrFISE3P5+58yf3TOzu7O7Xtsx5Hwk30u83tmZM2fOnDkzs/N/Njc3/z8QpsAe/H3SgcZTH47/+go9862QxwZ8+t8htEHkJgiCILx8/q/5P4M6whM4OTGf/33Cb4TFRdfX3/vmn4IgCIIgLCxexEtHH5rDY/j4jWIPJhrx0IX3X871T4QFQ9fR8vV7ODozXwmCIAiCsJC4jtf+33Cy9ehO+Wx9gn/eLcPV+yMo5HpRGjsN8w9iBF11b9JB2PjwDxy+umJOnZmuM/8a31oHMB9K6wBO4erVIXTW9Hejy/hZe59PYPvXMf7iAA7Xa+o7ft3N9xj63z/C12vzT4WbN2BTiqocJk24S3NSs+8lnPtTn50OlcmWlePILVQuW98og4N3bVA5SM1/Om6+PXkGMQ79kvkn4U/RKr0zeSK8fKWVPS53WN4Kkz6U0DFBEARBqIoz1bjxug7w8NPtoK5/wj12Ya0iU1nUme3UsXN/D+/f4+d7H7v6olBn3IE6doTq3vdduF8/LDWFVsPfk3Ol7r8cQWPnb+yCY+i6cvTw+vHtGBqYXzWN6uf78h7a7/i9uiOP84Yf1pH3vn2M0kxj73P2vfTsXXQH7bXjW4D2frHp3fMvdM8x9J+002PTiByJ3HIhS204VI41Xqf6WtuGT1vmWgh02g7X79GptmmTvP8pdi+W/utf5j78JOWG8kan6D4qUxdGax3454ORCj67s0YOPV3T5SfHTJfb1yO8DljGz06pBUEQBOG34Dheb17VYPzrh/mX5Qc8UsdWgL0ORRBOC0VrEmxtQhO7yNMo+nAOF+QctUp0mFHni5wNYAR1WOWOAEU+TNSk9+8QxkvL8Ab/3njbdPN9doGdeexsbnzYVovm47yVp9bcTHemrr/CEUuX56sqeeXSUBTMRDOvb2D4VIPlKFSUBTo3Ww0Y317EUdCzI+je1aD5tojLGMbK+yKKnp3DETp2VoZ7Lczg3cA8uwc3Q3TcVla1fPd3ob00gqtIpujknZFD2XIdTpT7R3TMJNolCIIgzBPH8frxawy1V36X/waWl8bwODL/nBWNZahR9MUu6scPn8aaDNeJGA9v4kiT6ni1w0EOJ0XDog0FJ+40GF1PRAJLcP7FRF1M+m4UjyI0cZlP+PRaRfLKpXgawk3kKOtIVNG1Yvf/zdBpCcib9BQiR2oDNps4YOB1+/SIwwVBEARBWDwcx6v3330cObBsrUId7uHnJFGsslBESk0PsU/B9UbpFHcYaX2Q81z8WAdEdfSVYFNr3/tQ34mdr73P5lUK9rmlpmfzCZWrKvXXXFM2YHXF/DkNPD1U0+AGpafQgI51Jp1IKeJHDMmpN38KgiAIwu/EfZ0ETc8tteHArqWhaMw+TR+yKaUAKmIWTanpdTp+hxd11mqNELuaeHY1aF1Vw4nmZHM+GEFt/SBzfZKa/lvrTOeVDWrNnEcU3dHyLuck9ODnA/oWKVOyeeWaHD29V1vfjafvElN8k6OnW9uwG8l7D3ZRV0bXtDZOT3PyNW3Omjk1xdyAba7D/rQoQevf0HGL1o0JgiAIwhxIeYGquyOszM5C1clFu9XG0L8cQnOH7Yikzs46Y0996A6b0AnsaiSK7pTzd9j5O9nsrsbMsji7/wi7G9PA805E6fMyM6JdeMkyOTL10h3d9qG+XmIXqSJQZ6Fy0TV/F2sJJt2N6aPSaQ6DuxrDZUKc+vZknrZT06QvuxoFQRCEeTLbN9erzq2sEzEZqvN2nDjhuVCu7rSj6763TH8Xv39OEARBEBYTd6pREOaOnkZM7qbNgjZ7mD8ttCMWv5vpYn9BEARBmALieAnzhyKh0U7LDjT4a0By0a+WaOzY+/HzTr/za1qbBgRBEARhVsgh2YIgCIIgCHNCIl6CIAiCIAhzQhwvQRAEQRCEOSGOlyAIgiAIwpwQx0sQBEEQBGFOiOMlCIIgCIIwJ8TxKgC94PPkc/JInnmgnm1fm5DIA72h/Z8ZHAk0PejEgJMZ5XGWaQuCIAjCLPAcL3oDuOnk2Wce59kpB+N/nzAHMWnf/Wn0vn1U5xEe307z6OzngNbFqZyPKQiCIAgLgud49eDrX3Tw8DH0n/T5eNTpyzEswqScfyF9muwMxzxmmbYgCIIgzIKMF6jO/+w7dV6fd1By/N0NbP7vAGB4D+31hjr0uAsd6KwVP0Rb4R2uHDp4maer8vHqKnom4T5Xyys6KDvlUGaVBjvEO5F+zmHTNg9uujTVuA2P6jDy+PDxhAwznluEzPujczgH0LIHUvNnO4dceweOKzyZsXtpCtHKmRPVVyhtVY8Q/s65H0k7RFsQBEEQZsAzWuNVg3bzEY6/92G81oHtX8dq+q3RKrj2SnW+dXRqKEqiP7FTiQ5MaxB9/14dSfM3fsswz0y7vvcZHYgH7LzV/cfQX+k407PaebnHjt+kj5/I+UEnYBdOo++PbwHa+2WmV1EuO+QA0f1dGC21YddOz2GZneeqfBdfExXMt6IBHXL8lEy9Z19/hY90D9WX+Yqz8WEX4MymizKDNhwYmelIlo66kqNnnx3VVyjtswG6Yg1osSnKjdd1dK4GxhHDujZHDOl0Md9Yt/OYThcEQRCEZ7W4foQdru56R3BVKhK3gc5GA8a3pxnTUudwxCMeqvOuwyp3UPh5gk7nvgettRF0o/t7+IwR1JqbxnnSh0CPLv2IjwHLdMTK0vt3COOlZXhj/p0PRchs2ucwuAOov6Yn2zJfxM89O4LuXQ2ab4s4GTn5NowubXSOPzuf3rcjVhc9uBmOofaqeKmzOYcLxyHfgM0mQL+rS7HxYRsaT324iBxIffZjXF+CIAiCMDum7njpnWbzXZifzxtYXgK4/y/bWXPzbabOMvkBj0/mz61VdNEo8sPuZ1OW+voYHkfm3wloyo3dy6fApkCozEFy802MYMAiYBSpiqOIOdB0H5MZn86sinJe11o6Irm1CU0Ywg13uB9+GgdeEARBEObL1B0vPU0Uf4p2xL3/7s1fHlPpJJmjlAJNqXUoahXlu4suRQhy5LhTwu81H7vW6fonZJRMoaYpoQ/H9r6MqblJcSNQG7C6Yv7MIyff1dDTfWA2b9Bnqrs2r29g+KQjkhtvmwDDG1eHVlad6JaaihQEQRCEObA4U42jRxgvNWEzmt4zU12D0ERXUfRUVmLdFufpEd0zzd7ncMRLT1eZKIrp5DuZ7/miKbhaeN1W5FxuwKf9aUW8zPTd+m5c5v1daC8VnaYtkO+KRNG4rU9wkIh49eDnAxRfw+egy15/vQebzXunvHoql61Fs3oWTWMLgiAIwuzwdjV6O80Mzu6/WeLtLIyfq/O1fP0ejkZ2N90R/KDF34mdftn4O/Ti9Gl3YOxsjW/7cL/ehEezu9C/z985mCY3V2bJ6+7uwNjZGuGz6+u6fOcZ9RHvwjO7GtkuSJoypU0A9tlu3tN3TIbwdxgmdzWmrwFLyEwR70B0r4+gf1uHduquTV4vulx5aWvMvWk7Fj2Zz02/BUEQhD+ejNdJCNOHOY/OzkBBEARBEP4UntWuxucNrQtzF6MLgiAIgvBnIREvQRAEQRCEOSERL0EQBEEQhDkhjpcgCIIgCMKcEMdLEARBEARhTojjJQiCIAiCMCfE8RIEQRAEQZgT4ngJgiAIgiDMiZf5Ogn7Bvy0t5ZPgvOmc/8N6WWZ5YtU09O2b3qP3jqfIP0N8Qpb9mnJ0uC8fT437Woy89/mPw/8N/MndMbKNXEKQh6mrhL38Tosf0LBwkJteeuxpIz+JOzpFoE6zzhlQp9K8VJ0RV5QrUmXQ25dO6fGpP2ugJ6lkmWvbJ7033/a6SFexIuEewInJ+7nnw8b5joJMXn97+jcu9lBlXRy8g98is5y1HlNPFspUB2V4/30HIXrr/BxBgdYLwrqbEpyfsyB1fNoAL1vH6d/OPaigB3dwTpoHVQyTXe67tERjg5Tr8w5HKln5R3wXgHKN7X5lHNJdfs0n//N7nxPgWM6wwdqu8/FefL7kMD5ucKcwDpBp4sG5tpeZThdU9az8y/6ed0788UUoYFvrGP6Mw8/pSie49WDr3+RMI6h/6S9ULcjdo27rah5jTDGmKfm2xyTfnaEeXouRmg+WCcnvZ42YHUF6zLrMHLrdE4x2vXiaSxDzR6inoaR6WTtxrTBOUeAlCFDwzVMM5I42OmAddzRdkAbDjMPjRemh7HXE7ZN3fHN01ZSB94BiDp46nQb0BFdmTnBut5ahTr26NmnqlTRs99jrwjrv9jPIkVC/5/5//NgOIT79V30z3tuBIGwUzfqH97UjoqCQfi73FBrFfg0kIZHJXKnpYKE0ubXsspERxmZPz3yQ8FmJBTdH+ddlYkfep0x3ZFNGZn5ZfPzhb/4Zf5QuGlPO8y98bqO/33U//Bx9AzLlJj+9crNQvROmSec+tV1WlLHKIJHdfnXubq/bb6OoMGO+ZOM9M3wANrNVawF+lcx3PpMyuUNu+7XV7YukB4cYP6uYPmdlalf9mwdJty0y92rMHYJyugY6UjrEforbUwby3M5hOaOPy2do8OenlHeIkK2knCuIym6puVCUd0ydpJszRgeWVZ+/BoDvDL/KER2+9Dw637ZvHt5uZTMB3D8aztTz8LPLlcfaTZnorap8PKFRCLOq2uCBormT5/KfYBtOxPaq8n0bPF5Zovrb+Ditg6ttJBhaDrwbIDq0HDuU53j3UArISmnnZ6kNC7vof1uWiFwUswO1FFpteeto4kR2CAP1+9RWfWzj7F8ncJTNTlpY+kyp5+ozCoEqxtsY8eGZONyh0PBpsGp8LP+XWJKbWJyyoV534XT6LnHtwDt/Vhme5/dfLn599PuojN/OJUwNBkpkqEyNkttODQhbmeqHo27zdf7S9TKHa5n2oDGecMP61R+2/Qsta0JjGZRtHGN2wB9HGcUZdkhx4+uocxqavBlyNEFwC6l/W4bHlXbJj1qwHZUHzk6nNM2Nz6ggzkT/UfW2mqdTvcO879DAxZsw0tN2FRLLXJ02Ldnvk0MLp1AHcSOWk2Dm7RHax2mw1U4hwGVx9pWzOcBtpXMaHuCcPsgGjtZdU3tswUDe58pl9Pu8d9qsEjXfT0LPjvPpuC9vD7wk3RgJiXHVgbqmtqdsvnKIWxAx9grvpSgSh/wopeTVOTZ7Wrs/TuEOjbYcmbgHB22MTRaVqE2YLOJXnRXq8jGW/zH7WnsUZ9dqEab6uCVZX8X2tCH04yGtteiuXWurFfMwOaQk3YQ2yDJAOE/4/n9gp0HPXsJRzez6JDzyoV5P2LXSCfGS8s4nkZQN7Zp1JiVr61NaDpp+7oxOdZIKUNDo2ElT2+qnudLDQjqsGrqeuPDtlqEOlF9FkTncYoOgo/tTLGOipViD3bp96wNJCBZWrl5MgvqgmF0aUfLFI0bQ+2VuZqjw4Xa5lqLdc4pmHZWuqPFMl8Y53N8e+HKJkeH9zoUYWP2rARWB+2zlc6SE9LcdGyu7lTLRyGU/l2C7uTfNWGIzkjRKaAi7SOzrpHzL1zHyAkEqL9mpQroWfDZhWxKLXeZzERts0IfYB0jcjJ1pErbq8KRqVn2AYZJ9YyoofOrgwmuM7kIzNfxopGYFYT6TBBVQkN29VDQMWEog2yNpGoo8RqcN69qbiWd8NDpLNHrq+JoE33ckPGioiKGT4/ww/x7vtBIi8mMT4vkQWF1Fo2iTzyVNHtsVEx/3LomPYSHnwUdlkVER0toWq3wegq1vsSdfirH5LoQ1uH8tkmdglqjZK5PJypUgFnr8Ax1UOk/7VJVHT7NLBSXW+X2QdN9TGZ2Cq0IwWfn1gc6r9/7AFEfM63ZlN/L7+0DwkROpfocQ3+ls1DO13wdLzP6iwUy2cj7fIANtrNp/lWQ6xsYmiiWinANb5xGRPPXcb70p3DnUZE42mQ/iz+f3fvv3vw1f9RUIo7ybESp9G5TGtk68sbPDEdtFgrt6zUc9rnuFLBa7/Js0VMxtDu2VHTn+idU0aQqulBEh/Papo1y2umluTlfs9ThFb0+z6LXLE4BFY0eQ//MRENpbWBiSi+bSu2DBv07fOde1vRZOrnPzqsP1vepKesX4Hz9zj6gHDr6uUg8u6lGBU0FrjQB3acSaOHXX+/BZvMerljncD6gxn/AXlUxRUaPMGbTE6qjiKJpOk/uOp8SBNOeMRSKx1HeQaijiQy4joQUHpMXKVc0+tyAT/ssbdWRx9PE2tnRfyuK5Buxkampb0FmI0T1Gg/zN6Gjst66kymjyzVtox87XeU7f7Pux1mXVZIsXcgjqAtl2+YPeHTWVxpslH+ao+0cHSYnIZ4aLNf29FRtG3YjHTRTweg4cHdarw/ir/cpSg2WmdLTdG7RqEn19sEiq/t/l4p4BZ9d0KZYshwW3TZLynTR+4CKTK5nDLv8ofBawtnjvUDVLJbzKi7ezWAMrP46wt+BNAtIKflLMKlCKJxrn23/7ULRBR5VC3QQ3q4Tfm+xtLPh95Msr14dQmsQyyyRPo2evEWjWQTTTpSJ8HcAapnQFm+3DtPr2t3Z4v+Gy4Trkt2ZZXc1pusZ3/kSLBd1ZqwzGd32ob7OdkzycmOatFPpAE4D+cY0vPKTvpFhnkS3Vd6bw5Q6dJ87xnzfrzfhkdeHV7ZYF3JkVqiubbmK664mXRfssxP6aygjOytvS3Qvlct5gSrlhRZQm3IFdUHLjL9MUuWV77YN6rCrh4pQfaTZlSj9EjJnZX4T2b03brlT6iSWt9f2vtOuTlpYrp+fXl8sf55M3Tav0WlMsNvM19MStk6R0z5Cde3oGN7Xf2hD0/YpeXpGZD6bCNRHom0m2yVh6yVN3iF4ffq2MreuCZU/b9e/IlkmolgfkGOvCqU9qZ75z06X9+/kZb65XhAEYSEwnQDt/Eo4ZYLAUA4Q7X5cLCdBmD7ieAmCIMyAKNqQGgkTBIuN/ixeZEaYDeJ4CYIgCIIgzInnubheEARBEAThGSKOlyAIgiAIwpwQx0sQBEEQBGFOiOMlCIIgCIIwJ8TxEgRBEARBmBPieAmCIAiCIMyJko4XvW+k4uv7hRlBL2qc4MgJhN7oXPlYhllAb4qe9nErM0bLUn8S5/bRCxL/V+FonOeArbOplZNsjpXpc7Y9un3O8jioVEjnUHYzee4s0xaEF4xEvApCL0O0HeridQDs7djP4IDtl4w9NLnMAbwvBnOkyv0lyqDMMTBBzuFIHS7sHiguCILwXCn5AlUafXrnV/0BqDdQs7P39Bup74ufvSb8cVDki58tqqAIgXMenFCc52579OCInyUoCMKfSbrjpc6Mio+vjA+uNMZPHXhsDgv1Dzn17nUPbj0AOKMDW+3hmMmDY6NjNgzOQbtO2snjFYL3TkyawS9jRJP3+51ydr6Tz1G/DR3yy48nUREIOjB4AC37G15fzqGvKYf4OteRwkef6Dy5B2/735konT3I1NMjfqBt2UNjE2kn8u3JzNdh/35PNjxvWQewhhyv7rAJHVPf6YfCWoknn0tpnsJB9JsyOl4k3+mQvFow+P4I21YfuMwSDiX93uh8g9qsdwCvasf8O7c+0uubpVkozxa/Lln6oXybZ4TqIx+3XERxexbWwaDMnHQ1vp645SqhCwXSDutZUibub7zrvO3a+sJnHVg9lOOYhGdIcqpRNSw6qFNPmdDHNYI1aO9QZ27C/0tt2I3m+LHRtAbRfe8vR9DY+Ru/teC978iw0fVj6D81YJutg9HGgCJJ5n78RA2anACer8t7TIuljdcPsu6twtYq1OEefjpGqQc/HwAarSmsPaqY773P2CFG92J9rHW8NRcN6KjOxFzn9XX9FT7Sfd/7aPp8sC7ttBFLO7FuKZVzGNx58lFyHMHAlG3jwy464TZt1AVowwFLu8qU3d5n7LDUtKtJe8XN997nDtSxo9LX8ZPmdEX30yfu8EhHOyvodJhrx7fg6mEeKP8OOc50P7aP2vpufC+2Pa7/x7d16HhrpWrrh9rxVtfH0ED9KVIjlfNNeqSceLrfb/cBzgZY6w1osd9uvK5jhzkwMiV58/rowj2WcVrrhlxdKKlPBeojG79cZO/MJSLHnm18OMjUwVyZnR2x+7CuzNcR+OxddN/tb5Qu7BcsV07aeXpGba9BzhJdN3ZndBk7Zrn2DPXu0Ooh3b+2LWuOhWeH53hhg95q4OjpNDD6odGJNQK6g62/tk32HI746EMZ3TqssoYRN7Ie3AzHUHv1Rn2PTQ52cQQ2ukwfUW68bQLwfJ1dKMeNG3TqHNx/T4HGMtSeHuGH+aflx6+kqzI5k+f7/AuXl18fmljm6dfT2PiwDY2nPlxETiDWLTkKzc1CBvq8S0axFXckqv4uorz2vh0xHfN1oQp70FobQTfSwx4+J5nvzHLs70J7id/PMTqKDqt11HrfTlP0MABFimzaXvvYazUc/e99u0IHpwmbvGNh9/f+HcJ4aRnypTaFfAfbfYhzuCAHMXLCN2ATVaHfNaXc2oQmut2n0eDO/30F0MHYdnShHIXqIwvSI6dcLoXsGWs/DlVlhnpwxPJVXI/yyNMzaptojwZGotc3MERnlOtRvj1jeqjur8GyGz4ThIXHc7zewPISwP1/6caiCBRmjheh+yHlACoiMobHjBW0b17V1Gg/TtudPlDRGxVhM9entatq9JhqlCg/41++OzYBVfNNEcpIJjzEb4mjTARFkpLTOBk8/IwMaGmUUbQGV3e2w39ZajTiZ/nmU62VUHpEUb44bX9q5PyLjrAdmut8RK2iMSmOdky2jlZjA1ZX0AW3eqA+yfYzHt7EdUK6U3jqa1b5zkd17NaJUE7DEG6sw0EDG4piRGWeoi5Uolh9TEqePet9+wjdu1iPnUhzZZlRxCy+94QvJ6hMSM9+wCM6WpGDSLqwNHbtQp49e2K6gy3h619TmtkQhDniOV66YUyKCjPTCJOHis21XK5/wr35Mwtax6DTjT9Oo2Nh8O4DGqZpOF8qX27UzhrlKg6qw6T5VtMVNCqP5THV3XQrq04+lFNSGB3FUkbW72yxC6ZpTGD1SdNm04ProPk404naYKvvv/ehjp2rdb56/+VpoT/C1oOVacHrUn/4+pgqzDbfQZgTriI93HkkKIrnlBk/E0apps3s6iPfntnpdjuV6DhfFWSmpl9x6BHdn7rUYFJCeqaXaMBaJ3L4nKjfrO2ZICwInuNlOktnXVZJWLRAzeebv/OhsHItc63B+YDWwxwUns9PnQq0UZZSDlkyX2r9BRqueBouj9gYaedU/51GWr6jULtac+KPTdkIE6+H0i6Dnn5w1+/50wh5qDTQedvDzvY+5b7IccV6OZhWlMN08p2i7/7yHX6a/sNy8/VmMXrqg6+rSk7JTsoU2l4ms8y3IYoK6/VHbrvXZau/3oPN5j1c8YhrUN4VUXUbT9+ltr3MfFesDxUpj6cllbPDHN1y9swbEE9DZlE0G8u9P62IV46e4fdq6tc6fPhJRt9nY88EYZFI3dVIBop38PGOGdpx4u76cXdvuTtSxrd9HKk1ze/JsOXt0NPp8cbm7JihMLQzbUSNWE+1+Hnm1yKw4atdejRadCIg+Tj5Kns/z/ddF7rQiWSWm2+bZ/obn6t2xDGZ+fnqP7ShaetD3UsLUdOno5LPJtjz+bMRZ+dUQXT+knXhPnsE/ds6tKNyuXpkKf58rWupO9lS0k6m6//Gzb+ro/xaTr5JD0rtokOYrtFzEzslS5Cd7zyS+fTzwtMeXXYBdtzf6zRQNqm70JJyi9p9os0T/k65AIG2R+TlO1QfefB7SQeuXh1Ca1DEniX1N3dnLuLYygj9O2eHsdeuR2in6+vZdiKblLSRkJ651zS8/TnXfXuWaD+C8Dwp+R4vQRCE5wt17FWc1+cHOUe+EzwtSqadNhBU3zVhOJP8CcJiknydhCAIgvAiUFN9idfhTIfSadOmAPOnhdb81WaUP0FYVCTiJQjCH8OfEPFyp/NKTMsWoGra7v1EmSlvQXgZiOMlCIIgCIIwJ2SqURAEQRAEYU6I4yUIgiAIgjAnxPESBEEQBEGYE+J4CYIgCIIgzAlxvARBEARBEOaEOF4MetM0nSHGD01+3tALDu2Bs/9kHk9CW7xD14U5QS+TjOprFkcHLQakb865gy+El1quP4OwrVR9Q94xZLb9Fvrdy23f0+Tl9ckaz/Gioyqs8sWf2Jhw5Yw/kVDoSIfE9XkqmJs/MYLncKTORCtxWHkZXqQBSdHxaRy2XoTrr/CR6muqhxb/AZDdmVcdvRREZh4ztpVCaWggc9gcwjHaw/rO9J0vHXD4PU6d53j14OtfpHzH0H/SZ2i5B5m6ymlPkY/O6To7Uv9+f6mugj4MdU4vx1NOQAfqJs/0OYXdUlGc3rePbnn+EM6/kLzkyI4Yq7vmI2fDCYKQhx04Jc4iFSZB9Utke41cp9sv70GLzhBGX6XRmn/oIOMFqvqQ1uYw6w3PFBVIHo4aoQ5/hbm+kZi81w6kHcCroev0xupTOIgOro0PldXl0QfOpr+N2T0st8zblintrAOG3+C1FjzSAdGY9vi2C8NmB9pLPA/egbklDumNSeZBQc5qdFhuWpm4XJDo2d73Ea7sXJmVf8u1ez+vLy3D1Ddok+61HqG/0tZyvBxCc6fMwehUthYMJtJdc+/3R9hmB5s7z1VtI5Zc6sHGql7SDi3O0oW09up9R8+lA4bxWQc2b87By3l6lqULRfDSRtyDyd20nWuqPgdw/GvbOXBaXXf0lxPrcrjdh3UsnwrlCqLTXb728mkOkae/D2AI9+ttTJs6D4AO6VTqAeQeBWSWnW/K1wHA8B7tlX4eHTpO7TBbpmXbfVhmufXltS/nfr/sqfKi5ydtpZW/LS/Bn83tUWo9e/ly5e3eX05mlN+wzQmlndc+stE6GrQ5Xl2m2YxgfToyK6tHOVh7+NdP2J3Y3k/OC1njRd4rVtogLLra+qE2Xug9H9+OoYENcUNdyQkzYyUdrt9jQ9ERkGN0lDpTC9M3oE15Qs+7tt5RxrZ7V4PmW536xoddgDP9XBWJhDYcTGsKNWdqa++zG0GMIz9GXuo+MiDmOo+aoWx3sTnbe49vAdr7xWWmG2Qsc/pww95ZwUbM037HpjzX2pEc2zvkwGC9LjVhcy5r2BrQUU4T5c2vLzRE6ETY8lCdN3aKT9Vm60IPboZjqDU3mXzfwDI6nsN/mZlbasOhzRvV3dp2FBHO07NsXchn7zM6Jw/YyZl7u3fmgoKMNU+7iw7FoRv+X+tE7Va3k10tM6u/FGEno27S96Psme3ea9e6PoqvdaxcrgrU1pvoHNDMBOobdSCqPlv5upQrs7x8Y5tq2ud1VKetZGqjBpXafc6zMe2DDJugUB11HTvo+HrsFGDbQ8fkHjt2m/YI819qOYopL93v9h921sDXAQP+7h+eL8/e5tqzXLJtTpG0s/vFEHk2x69Lna9Dtv4tZOMTMrtEZ7+UTMLstRowHt5gKX7AI7ah1pynG/+sxfVkaMwIp/fvEMZLy6gq+VAljS5jY977djXFjhw9+a5JGfN34Y00et+OmJdvlP1VkVxPB7dhlQAN/BEb9ZWRNxnJXRwFcZnHmGuYvk299+1UdUBR42FyHN9epKSRBxqyaI1X2U0HNDKz+fbrCx1WPsI+G6DbWofVgumHdCGhk/staNxdeSNElrfrGxg+1WDZDCiL6NlEuoAGdJtC+lmRmK1NaKJJPo105RwueEdOsHZbVmaK1HaPHcMWGl+uH2dHzqAnyDTKVQVWt7wtVKZAvuPnjeCKtXFFlXZfSGZZnaStz1NP5zXqQG/HvmJbJCe+jE7fdSNHrlT/0WkDZOSrkD3LJcvmFEw7tX3kE7Q5+7vQXuL60YOvZ3xwELLxWF9vm67Mzi5KyiQEBWqsg6jlNbV2WZDFcrxoxBJ1ePiZ8uJP7eEaUBk/FgovbsDqCjb3HZYvHj6dNeT5M5nwsOysOf9iRinm2eVG6zTiifN9kjq9kcHWKnatY3hMDT8SoWtVsdFPPtKquONzZTXSYwrtRzIpq0dBXTiHAXMa1GDBjwA/DeEmMv56PaczwsxMu6ouBGgsQ40icYFnVyXU7u//i65MlzmUayZUzneFdp/3bKo7FZU0153+gaItOfX58DPWg4ViBvYssjn5aU/WLxI5NufpEX6YPxPk2Pg3r2oqEhfp0Yk7pV8JchCZLVTOZpFo8RRZLMfLLs63n8LTGRQuxHY7Q6+V5p6dvM1lMboOj0MUrtWh4PlhN1vg53u5nSVqGga76mgqwwuvB7n+Cffmz3TiSI1GG92ZoCIsFTEGX4X9KUpiZULTHfoXBcjXhfOBHcHrhaMDL3qaTRE9m1wXcqERt3lu9MmKJE2Z+uu467aDrKnxG8tViQr5rtTuibxnsz6i+4BOWuR86T4gCBsAERuv6+av380M7FnkZM7WVgZtjh85I8fa/Jlv49EhZPbIfpyp5QkhB1Etu7BOnRocTCuaVowXMtWIncI1dmFrHacz2Pjwd7VIhcKEIkusxUkSK7/ufPXfRYlGcVu0xuE3jZrTGor6LqCwUePHUfB+iZGvGUmlrw2ha9iGURb2WnIaYXrQ2iY+OiqFqa+sUaBK2/xdlKAukJNIxg5HdPUJplgL61kBoxnh6UhC/1WeK65bHD3CuPTUv5mSsevFiMT0SIA5lCtyCtVatCm3+yyZTaM+Jm33JZ/94xd36cJ2Wk+htWE3slXJabhZQfmMpzT1ICeWyZTtmWNz5mArs2wOfY/tYzuqSzsVbH8TsvF4lRy69YOc/ttGV8vMSOjBlR9IobV585xu9HY1UkGSIb14lwYqTcr0SLQTQS1uTFzFEX7R0GVFvOfz3SV290a82JKRmm93F4VeCMhMCI3MikbkePpmJ5DOC+1qNDtoGvgbtcviK7xheXWfO4I+7YCkhZBFRqA55UqUSWHrK1nX+bt1mMywsfMdRKPbPtTX03bqZePuxmF6hrjXmI5RfhJyZHLOc6B8mRXZKRaRlJmzS8e7PkaZ3KtF0kXqw7+ergv6N+DoroLJJU1nw2kX1IUsuExRnrRD8QBO2f0BuSXyTb/N2HXG8m9lFmz3iHuf2+ZzqVKuPHj7QVvTHTahY+pD5Vn9/UPZa7X7cUS/L9e+smSWnW/dP/jP+xHlB++u3O6zZebml+B51vi/cfTUy5tzzW/3Cs9W8ram0rLlSuaZiNPn/SqleQXL79yddJn2LJd8HQulndc+iqBlnmJz/Lyl2FI3b17eE3Xiy8XKtUS7deqNoZ41vzcxZLxOQhCE8pChKejgCYIgVEZsznPkz9rVKAiCIAiC8BsRx0sQBEEQBGFOyFSjIAiCIAjCnJCIlyAIgiAIwpwQx0sQBEEQBGFOiOMlCIIgCIIwJ8TxEgRBEARBmBPieAmCIAiCIMyJhdrVyN9im3gzduIN1jMk6+22vwHnTcyl3qL+h2DfbryQsmFv+mZvkrZ1Wvgt5g7mbdBlTk541vC3X5d8s/wfTjU9mxDn7fBl3sCu0Xm+V/cB9Qcr09PzYP8izJ1Z1vWis1ARr/Mv8blJgqb37aOSyXwPx34mKKerjp0x6s0zcUjJ+B82h3A87YOmXyzncKTOUytzoLjw27j+Ch+pvsoejj0HpH+ZAeRon1Q5x/jPRKYahefL2REa0ucVAVHGn0Z1poMqH4kwjsgfMjIUJscO2uYW7ZoCvf/uo4Pk1SHY0YHbwkvjT67rlKlG76DsxBSOd/BlYsrDu98JN+fdq0k9uNNMNarDYs3Umx8udqblqhx4q3DD5JOnTWVuweD7I2yzQ295uYukrX7DD2mN8GQa1Zeuh+aQy8j7zk7fomE+sHlz6jsr7WK45fIOQA3qmb5GU3SDlp0ecOUyeX3kp+3rAs83PZcOQr56dRhNW7jl8mSG+Peny0TrySMdTo3Xx7ddGDY7zgGwzr2pdeHJdGo6TLjlKjdVE85XMT2j3/hn0un7IEX+8Xfes0tM0ebX9aRp6/uCbTOYtr6WrcNcnun1nKkLSve9w4L975z2kaFHM1iuMa36SO1fiMx2n6dnefWBBGxKPl65ctpPsm2617lcrCxOUbJWH9y8ZaXtpRnhlruazXm5JCJee5+xgh/Q8NGo+v0x9Fc68M+HDXOVrnegjsLX1/2Rt1GQ6H76WAWha/xeTBvacPi5RJByqa1P6Kf7L0dQW9/F6jdgQ99F9bHPPb4FaO9/wqcWgIyEnbKi+/0weZW0FQ3oKCNE9+tyH1iZVkx77zOdcm/yTdMxax0zfdWDm+EYas1NltYbWMaOfPgva5Qo00ObNyr32jZ82tKXstMuAJbrQM3f2/tdQ5OnZ0RjRxsF+k33rgbtjqntyvURSJsMSmsQpU161thxQ+m19cPoXpoCbmB+9LNTdPxJXdCg8dVrGnja/0TyJj1pk34r3e4oQ055a77VqYennUNtD6kkM79cXbhHGRTVhY0PB9n5QibXs3MY3KHUWqx2tlahjh3TwOjaxoddgDObttf2CpBd11XSzm+bRdLO1uGc6dmQLpwN8J4GtJj8N17X0Rke6DrDex1beXkP7Xfzm2ri9eG3zWp1HWr3+XpGVLEpIcLtJ69tagcpu8/WMlWDerwWtmc8baNjqq8kR9CkzWcgKtmcl43neO1Baw2FGI02eyhE7AQcA4EV5f07Yn8X2kv8foa5dhV54pj2GXX0rcIKqDx1m7YyEHVYtZ3W9Vc4Yl5+798hjJeW0Zzls9dpA9yeZnviFdLWkKdvG4sxuq/M3RXTPv/CG6E2EPXXunZ6365gtNSETSuj/RY07q68crK8Xd/A8KkGy2YYE0q7GK4BjymmZxT5sCO38wF2ISur+nrl+kCy0sZyHnH99fWMYPc6zyYdR3N/yvIWg0Zsq4EjxotYpmdHjmOl6qJrrqKuXxQeESOhtkdUkdnWJjSdcp3DBRlo3hHlEWjnVfTsvOvakI23TWzLsYx7346YvnttrwhZdU3/rpB2XtsslHamDucQ1AW/bjdgE0Vq9VLLl9nKswscXGS18xnAyuy3zWp1HW73eXqmqGJT8shqPzltc+PDttqIk26TDKxfdXSharufhp1+ofw/83+N8uIb0Dk5gY75SoEVYzn/cgyrOLI+xN8c4r95WFKNjJ6Gas42FTOfOxvMiD8KxxKp470JmEHaplH2qqbthbCJ8S/zBzaUwV0Htqljv+7BXqsBo8GRuWbA+rphxurrX6yBBtPOARvdxwbdf4If/Dc1bjvSKqBnxGjAjdURvI8cker1kZ02uoW0w8ZMZWjQITJ/VeX+v4ABrEBu26sis8Yy1JYaUZuPQAepCBSpe0MyNfWdmAqppGc4WNg/1B3/mXYShmcsbYrQRLvsDAXznUultHPaZoG0QzocJqwL1EEevNMd/bnqfIdwamzEm1c1qK0dwsmJowlVrWEFzECR8lexroPtPk/PkFnZlGD7yWmbVF95a6fGw5v4Otlt2x9UbPcz6TdfCCmL63nY0Hyc0CR1zuZ7b2eWWiwXwvd2qWLNn1VRU1eoysc2z1PcVTOTtE1jqJQ2GRrssMj5Vffix9+xQyMvHUnSUSYeGg9SIO1cyPjYex/acPg/HmbO07NsZlnXtCahQ9G4KF/T3U3nRnI2YHXF/FmRvLZXWWbkOEcyMZ+s6FoKdkeZna6IppUr65mObKhRuHES4oHEHvyNHTGwaZbp7Q6unnZ225xlvgvogop86yiWiuzwjhmhjt/my36Kr1eaNmN4VA20mszy231Iz8JMw6Zkth8i0DbVovUqVGj3s7TTzx3X8TINrlN03dX1T3DMPYVQlzLm1VV4tQHb0TX0hv2pl6pEnj2mve+NfAKQcsbTXLoBJ+6dMO0E2NEcrNfc0VGltK3hQfb/9kZViKoTdHj3W1AvLeuctEvgGICyepbGtOojDRaZpTWNbiwmwOgRxmz6SBmeaLRnpj74usTE9HsFQm3PMqnMiqRdmB/wyNe9KarpmZrCWFmFPXQS7nHE7kszijKatjdNKqWd0zZnme+wLmhdrb/eg83mvaOfyllcP2DrEn8fqm06EfuKMstp93l6FmRSm5LAaz85bVPluczaXE6Rdq98gMBUc0U7TZHCk5OX99qd/F2NSGgnQ2LaIPEb8vTtGg7v2l2Xec/JtIkofZqOcF6gSr9nu5ywofEw8+i2D/X1ortqeJlpzdMVLL+jBb/m3kppJ8vl7BoJpp2sCwWTmxPCxtFJ/6ENzV9uneidJYDl8naUJGTqUiTtLNzdLATXAyKkZ/oaLS5PHUlPoa4z0/bqa4xp3683Iz1T5eK7S1Ve4mfzclN5aAdWa8Cm4x25kK7ZOmH6TFO0pl5oioEW7H78Brm6kNQ1JvNKMiNy9DiTFB128pyjZ6Sj3jSkKzeNTsPXMV/eI+jTrtHU3cFJytR12bQtOo1k2wynnaPDeTIrpAumvr26UiTSj+Xu5tuSrJdJSKRN0Rhmu8IyS+ovkdW3+e3ekq5n1WxKmPz2k1a2UB/D5Ubl0fbFStEnJ23C0YeyehbG2oZitub5sFBvrn+ZkOL62+AFQRCEMijHqqRjKwiLiLxAVRAEQRAEYU5IxGvmSMRLEAShKi8x4uVMsyeYzhStsHiI4yUIgiAIgjAnZKpREARBEARhTojjJQiCIAiCMCfE8RIEQRAEQZgT4ngJgiAIgiDMCXG8BEEQBEEQ5sQf6HjRm4BP4MQ5N3ARoNdO6OMR6OOcxWWvLVyeZwy9+ZjKXeVooT8VJbu/UXMWD9pC7+p3CX5nuegN3QvXBo09O/lnIY7x+VOhV12cGL0k/S6nJ9q+qzZhbN6zPCJngWyOrg/dly5i/+E5XrYRux9tJLVyJBVC3zNTRSGDl1ahC9y5lEWd30VHQZgDRYscyyP8BpQuem3kT3OIhQXBHCfzQHZjgd4TuJAOqvAn0fv2UfWjEx8uP2Md9hyvHnz9izr+Y+g/6XOsYifgHAZ3oE9n59BJ7Uv8ZP0ZQId1QvIgTjo5v3Y3KPmCOVPGjPMJfw8bsLoC7sHZDudwRA7ZQuV5Dlx/hY9U7kV7YSKddUb5sp8/rV6EBcHYMjlC57fT++8e7YI+CPvHL+zso8Ohi6APvlYHfKtDp9mh8cKLJOMFqnok1Rx6h2eSF7gDztt05/U2YfWGX+CHg+o88oNJVV7YIalxPs3IkB806h2wqssWHwVa7lBOL30/7VwomtgBSHmmU6a0A2sp6scPQFWYslOZQgeL2+v4zAObhvMMna9IKmnPD+DWR/JgY1/m8YG1pr7NG5359zpPLXikA3Ax7fFtF4bNDsqep1+1PgIkZBpD5T2AIdyvt1FmWAeXAB0qXym5eTJ38p5TLk+e/puvc+sjk7itDVq2Xtz73bT99pNsf8k6DejZzMqVj1+uYH2wfKv7mkOnfhLfOeVy8036T4cXn6JG2ee7Mp20bRZoP75NyamPqC5TbRER11elctm2l2mvcpi0XAuPJzPEylTpHO+flQz4QdUhm6J1ZfD9Ebat3ErZHC9f/r15eGmX65M1ifJbnLQDuh8xJR02lFvjlYg8bcBmsxaI1EyP8wEOAdZaWCSDH2lDQR6u36NwdBTiGA1LJwoV2kieveaHH1FQrUEcwbjEUu4Un8Lc+LCLsrHpH0Mf2nBQZA0LVbKartKV1Nix01fxs8MhU2w0+20ANBA231qJ4k4pl6U2HKqGiPd/78N4bTtaK7L3GRudKhN9ujBa6xSfUsay7aJq6nsp/wDtfRa6VYpfx7za9N3p1fMv+rvunfnCoQFtakxY3tp6RzkE3bsaNN/q1CeujylQW2+iY0sR4wZ0qJNQMmV6G0Q32LqtT/o4HXegXKRLXJ70XH1Fk1cfBSD9JIND95O82x1TKq/t6fYTrzna+4yGXU2H6et+nQb1bA7lyiSlXBy3XFgfK51o7Vrv3yGMl5qwydZdvXmFjs7wRtenX67Le2i/c21Obf1QdxqqXGNo4D22XJXaZrD9oA5ix3OPHQlPO16Th9ez2q2NUJOcqJM1198zJ5moVK6AvQpToVwLDTlO3GaQ7TGXCpBvK9GOWXmTzFD+u4XaZkq+MO3DwuutsD4q9MlBQm1vHjqMlFxc7003zmOa0eI5ff40416rgV5nLJzetytUEtfwZXMOR9wjVc+qw2qhe+lZR2yE3YOb4Rhqr96YfwewlUyVg/8krzmtkjNR8h/D8F9jIFS+a7AcDxIKwBy16xsYPsX3n3/h+dB1X3/NG2UALNsRM1y6I1oGLRVslFsNHFGeThiZwDx3Tc6wcVx4+jdxfRSFjD9f48WNyd1V9OwRyqCM6d74sA0NLM9phsEPlWuvQw54QJ7B+igIjtxsZ6QGQiurWJO2Li9iXTk7ijtyNEjbazha9EecjJCezaVcqehycZvisgctp1w4uLvG1tfc1AYY83XFBgP291cmr2S/nHKdXShn3VlOQYbfpO+Xq1LbDLQfq4Pxd2gbyUGz5VLwck1ApXJl26sQcynX72B/F92ZbJuRR76t5AP5Em2T8oW+gdV31T7OygxCq/XJIQq1vTwqts3Suxp55Kn0GivyNHmHVWphvC6Advr8SJteIxVHjOjjhl7zoPDhpPf65XKmJmaJWg/AjMV+C/Nd0hF+GsINa3gUGYxCphSVYuXKPsw1DRrxxPeeOOHbN7C8ZNY0zIJZ1wc1umhEgx9uICpAEZHg2pBK5QrVRzGcyDY6VzwaV6kuZ6ZnM2RrFbuBBnRYvt0pF20ro46d2iazlVTXNGqO7j1xp2KJKDpGoCP3kQ/IKsksh+D6JOwQv/cBoryXj0JUKlfIXuUx43I9S2ZpK82at0mp1CcHKNL28qjaNks7XnHkaYJpRpVB1mEVjewYIqcvI9IWR4zsp9haD5oH7tDoNbpPR6CKoUPY0XQfftKnBWeBXpQZKREa/uwRekmoQar0rEyypv3SUdMwOBKLHBQnDK3zPRt+Z31UQy3KzaRaucL1UR13RKcHQoWYqZ7NGm4zzIevYSFbaaLuKiLv2UpaQ+Tci59CTkRFmeWiIpkxG6/r5i8Ds+NqSce0nJSXWq6FZca20o88N5YLD4qq9cn5TNz28iiow+UdL+zWVeRp62B+04wW4/Rt7/uRNh0irTQHzLxz9WoH83dRohE/Cv5gXhEvE2bm0ZeE8kTKT5GBsuViu2vQiy89qo5GmPjsfR6JmEJ95ZBbH3ZUskDveFEh65y1OlnlIqctnjbRBjVR6sz6qIKZnljfjeuSTzOoqCxbIqAMqv47JlvPplIuMoZU16W2h/fg5wNfVqENaoSa5mpAJ6g/ZCtpKmwPWivulJ6Khq0fFFyflEbFtpmBnjZh63hQ5ruoZ1nT5mo3n8/oEdMouszDZ4HLtYh4slYDET96Ezmc6e1n0r4r2DZtXx2tF8O26S9JyKNin5xFobY3Yx32HC/qnCk8pivPRlLiBYgaFXlaqk3wKoeqaKevhs/2R4+0CF2PUnR4T30KGlq9Hixet7P9q1/Cuz6HC1pcZ6c53y3DcGqjBlsfJgSMnbJ6hjX2NDeNrpez3gg/Ucet1trY6RDalVZi1IAGidaotN+ZdLceoV9i9Hnepfl8k1969tCNRKTVl7PQ1XxHSpulh+nMsj4M/hqvab3vhUbc3/tQ51PmUdrhcvW+nTJdoJ2rbl3n1UcVEnWpFq7ayKteS2PzTQtSnVF1jp5NpVzKScL/+yPwHM6/4LNs2rTA2Imm0TSXXlCvn60/CVuJ+avvdKDOpyYImqpVi3rjewtPb1Vsm0ESOqgXSGctP3Dr2oBpnNImh6hsL6Rci4gn6+1fXWdxfaL9XHIdrmYrw20T2/37LtxHU3roUzzEa0TzqNYn5/WbBdrejHU443USL5vMLabPDTIWWLHJ7b3uKz8E4U+H1ot0VvrltrMLwrODnA796pepTJ0JM2GCqcbnjg4xj39VWfa3GCTWKCC0lqTqokZBeDGYSIY4XYIgLAp/RsSL1mfw+ecyL91baPToxpnTpx130sEIgiD8dtTsSua6KXpVw/Re9quRiNdz4I+cahQEQRAEQfgd/IFTjYIgCIIgCL8HcbwEQRAEQRDmhDhegiAIgiAIc0IcL0EQBEEQhDkhjpcgCIIgCMKcKL2rMdoea15b8Obz3wDOadzVcbfg0nlNxdNXL0pcm8U23RnhvOqiXFmT/CFbiacqsz+UtJfvChNiXusCM3iVi3ohsj0spZxds3aUzo37E18tQH3B9q/jwm9LF4R5UTri9ebVvTq48njYVK/z76xM+WWd6rwoQANjzx984Z0qHWVB5Zzr4b7PnMoyo46SHa0kCAvJHvztHLj7TAaTlZC2Kbx8Sjte5ya6ReezKWMw7REenWD+NISbCQ3M+Zc/xUAJgrAY0LmNM7CFW6tQhxEMJoxWWRstL9IUhMXCm2qk0cYBwNkVLL+zp4H7Uzl0gDE7Kdx7C7z/pt6yYW51f3OYGrIPpl1l+knduwxX7wfQsmXz3gCfOf2ZdjZi4jtXZuPblPB3lAc/32Yaw76dPvFmeq8+EEcuzlRF+foIUmEaJL9cBSgqM6ajeipa/ekQ1UlpXShZbq8+uC6pdPkZoonyBWRG6bYGcPxrO8qbr2d++3HL5elR2fqYUM8oTwcwhPv1Nj4bZXEJ0KF0uF3J0TO/XNGzlUweob/SRpnhfZdDaO6gjfDlNkG+E3VBJGQWtpW5qLxlnLuqdCPrNA7+3LLtkshrm37ZXXvr1od7zU7/nWKt299Ymee2TcRN2y9bsk7cNlCxPgRhSqREvOhkbTppnCJHx9B/asA2O3F/73MLBirsTR99en8UFkZDcbiupyLV9csRNHb+gU9b5noAanR0pppqVOxU8ui0/7y0K08/NaCjTlin9LFcmIfdjHId39ah879P2MyRswGalga0WGhcnaF4N2CdpT4J38qMTmwvGkrf+LCLz9DPVfUBbTiI6sNPm+rLXFKgocHOWF/Dj5JZwVPW8yDDr07wt2nTae/F0w6Xqxp7n9H4PqBRtWmvdCI90hFRLScy+FY2riMc0AUs9y52G/a+YzrBft/oQh6+zErqaq7MsC0qx42uY13X1nfj+khpPzEpeoRpH9rT/HOppme19SbKmuoE5U7rzkguay19f56e4fUDXi78OI7TWluteezeoV3bISeW6rMJm8puVMm3iXKZe49vkzUZtJUByLkg26cdQtJFbQtPovrAfKPTdR/pr047spVoeY7s9+abMuTbHN6+6MMcw5CtNNTQ/lk9Jbk1sA7pem7bzGl7brunOjcXDJPWhyBMm9SpxtGlHUX04GY4htqrN+p7wk41as5hgMpdf02qjw1yq4EjjIv4+tmRMnjNt7zZpaMbnTFgNMIyDUQ3umppFyUuNy8XNtgWrbOIy937dsWM9zlckPFoWaO4AZtNgH7X/HprE5pouk6jjt3/fZjetyM2ovPqY38XTSJP2wcNMB/RKSexDqsFHOE8Nt5iIW9P47ydXaiOkzugIYLlqsQetNZwlB2VGzvIa3RCmpuRgS5Cli6Qg3/E5N37dwjjpWUokvO9TtuVWUlyZUbtxpbbqWvdfrgOO5AeLY3gKioXyuyMOT+5VNSzu6uoXCOUL9fmYnoW0DuUyYVxxBz7oZhd+yCybWWYaBmHco4pYmScBZPXjQ/b0GDlUuUgR7ukjmeRa3NQV+L25RK2lQamp2XaT7DtoVO27bT7JJPWhyBMm/Kvk8ARjRp9mY8fGr7/L8sJqM4s0yYDx9dSkCNonb7VFTTtO3GZT3i4GlEGIBqhk6PF1qjRmjUWwaMPnxbJhUb8k96L2Eii/rj5rsKbVzU1co3TdkP8uVQsVyZqXQyLEtCHTSUVI0sXCBrxs7T5dM+smZXMiKdqm2R+m55RpFtFqsx1L7qSx6zyrcixlZV4+Ok4qFMloGcqmp+pK/m2khgPb+K8q5mKjAFBgoptb5b1IQglKOd4UYPEToyHgf1wrjuC0A1xWswy7Tx4mfWHrS24voGhGYWrETo3LASL4EWfwMgsRk8pQDQFlD6lkQVNWXRoFBg9d7Kphyxo/YTNl/0UWx9TrVz58DKbT5n1SgHUdAaw+pzbbtQZy8yPOtCAwfyZx2/Xs7Oj6PvuAw5yCjpfM813AVtZiZVVp4zKIZoKYT3r/Xdv/somaCsrUKntzbo+BKEE5SNeqOqP1jrhCCIeNZiQtLOuxJ/CmJRZpp2HfnZ47Yf+Tf31Hmw279080fTFUrX1S1GkD43HAY9yjB5hzML4yjD5USc2Ot37nDait6PIYmvxLOcDWkN0UOoen8xyVcE4wZ3g+qQe/HxA36LgdG+CKNqAstsvPur+8Qt1OJoO0h1c4t6oQ02/PpnMvPKaTihCTbHxtZx6ajI5NRcgV88mo6yekYxLMaN8a7JsZTX0FBtbd4i6sou64E/TViFTz4L2rIitzCOnbWa1veufcI+1Z6ectVOt/46ZTX0IQllSdjW6L+AkBeY7rZydJ0996OMIs8leUqd+HzXU8jtq1P2FdjW6abvXLDSaLRDGpo4odXdcTCJ9imKl7WBK3Sljrpl/ETTyIhnn5du9PoL+bR3arD74dYoMXL06hNbA1p/73PFtH+7VQma3TmwaNk+FodC9M41XUN5IXrlC5MkMf6EXAGfubiJ82ZjrebqgrscGf4Qyra+HdSeG58vussvatZi8HpQZ1YXzQlQqH20QsHXNy4uy+v4I29hJnTq/ZzpaasdXMT1LQ5VJleFHbHtGXh0E9CypC0wPmEzeoN3SL9N8w+Qyeb59VD48u5VnK3NR5S62q9HR74S8iOK2OKhnCk9XuMyRRJ0wW0kyyX+pqV8vvG0G2h4vN+ov7fA9gNPoWZXrQxCmROk31wsvEGWwaOdY+Q5HqEABh194HsQOpNSkIAhhJphqFF4ONLI8EadLECqhp/rGv6psTxAE4U9BIl6C8LuQiNfzxZv2kpdxCoJQFHG8BEEQBEEQ5oRMNQqCIAiCIMwJcbwEQRAEQRDmhDhegiAIgiAIc0IcL0EQBEEQhDkhjpcgCIIgCMKckF2NDPvG5ew3uGe8UVlhriXeaL9AyOsLhGdKftsUiiIve50+/K34yVMy/mSK9Iv2xI7yJ91MBu/H5/VMFyfiRWf2/ZNyBhcpVdr3s4CMQnyCfJUzv5JULYc6y43e12MOWZXGJQgLAJ28UPBgbGHRoU74BP6OzqGcJrNL+/xLxYO3/1gdNk7XA/Wr83KAzuFI9eHTPcy/DI7jpQ6ijg7xtexBa20Mw39n72SQY3S4fg9d49i8fz+AVvCw4+nS+/ZRPTd9RL0BqysAo0HWKNFU5qJGuwThGRNum4IgLCZ5/WIPvv6F1/+w6Ks71aimopow5KE38sSdw3dnRNqzffghqH6I0OYTDfOBfaO0eZu0naZIEL1tukjoUf8GUqY6nPRT32DN09c4h2TzsH9iOpAfnIyUfUO2IzMidKCtey2XQNqzLpdfp+4UVChtqgt+eLR2+PMP7tXQc+ngXTqM3E4txM/Wz6WDngctO/Xg6lM43zov0UG+Bjt1YfN5ijmwaTj3e/URX6Myt+CRDjvG+8a3XRg2OygfnjdPZmWnzDOfbfCup07Tm39lX/PaptIp9vb4CK7H09SzMu0jXxdcmaTYnZDM/LLzctF9rYE6JNrmnd9r22YXOik6TITqg/BkGrQpKeXKIE33iUTeU9OmPB0AnF3B8jub9zhf5dP2ZVKMTFuSVdcFdDi33Xv15ev4pOWi+w5gCPfrbUwb83MJ0KEy+LrGdJSn7Tw30e4ozzl2OKT/Cq/ckc2K256Tl8T0ejIPFldmvg6H9b8I7uL66xsYPtWg+XbDfIFZazVgPLyZrdOFbLxtQu1pCDeeACJIQdWZgiYadnkP7XfeVORSGw5V547Xv/dhvLYNn7bi0TKFganydDSNe9mB0CM9V0176gpu7CSnQW36x7dj8w2HKqkD9ei5x9B/MpcKsPcZK1iFYc29K53i06W+zEgm5pICFZtHGI+xY+4UDXfnpZ1D1XIdOJFR15BUSrsAtfVDZSBU+pcj1AlXD0lH7PXuXQ3aHXPVk7e+9x+lo/Z6Z40asck36QkaLG5s6NnKgOBvSN8aKAtdMjQi2NnqMqflqwFtug+/r613lFGivNm2vvFhFzstcy89G9pwUFhmOc9WBpTpCn7iMvnto4uG/pBNBwXa5vVX+Giep4yuSfs9M4KVdKFK+zBk6oLffnx7FpQZyhs763vs5PQ1lM2aVy78t9UTXee7TBcQvG7z5epRXn2YTieSKX1Yp4Pp7KKLYK8d3wK094vJTE/Xab2nDtymEZU7N22U7zvqSG06Ddg2MslNO69tViFU1wV0mMhu96TjLRhE92ldiOoLfxeylXnU1psoTy3LDgU2VL/aMroUbvfhfjEPTDtT/wm8jn1yrKf4mVZwKEfPNj4cZOt/QbxdjT1vunF+04x5kGMGt6ex13l2oZSh5czXk2dqhGCcyOXYYZ4M2zCM4Y8bbUFh7+9iF9aHU0dpikLyx444chB7WH40oonp4HT2Om1XZh7kVI8u43L0vl3BaKkJmwWMTV7aYaqVS+PXvWUaaefAnaGzAepFHVa5zNj18wFqzcoqPhs7rC0cxNxexHpzduQ4P1QfcDcw13Vb1PcyyDibsvX+HcJ4aRneqH+hgxKVGUnkC9tG11zHNC4849v7dsTq0tiBVzrlfELPtuXO0JWtTWg67eMcLqhjaTluwoRUbD8V2kdEqi7k2bOwzDY+bKvFynEdovzJueLlYnqSp6OOHuXVB9mzJS5TD7SXR9G9XtpVKZD26NJGJsrocH7brEKxviuHzHaPNfSF90XnMLgDqL/m+S75LM7dVZTvEco/lj6RZ3Oqki1/2wYm61dzKKLDkfM5GYnXSeiHGOOy38LCBaJQKVC4MF4cP71F+W9e1ZTXH6eNo64o1Gdw8qrnjst49wvH1iqqMY40mDx56LUaes1aHMGjDwvbzpKq5SJnWI2uzL08CjFTmWXhOvjOOkA04Hwkdv9ftqH48QsdrahBb8Bms5aINjv/Jjk40R1W5rJ1SaNyJjM+NVGE7Ge/gWVsp5nlbixDjSLVFZ6dSSVdmE77yNKFsD3LkRnx8NPRi6mRUx8br+toZx/hh/l3EoqIxfeepE6jTcos086RdwUK9V05hNq9io5GaXtTqiFbOQUq2Zwg6NR97wNEcuPRey3TmbWBHD2jSF73LrYrk/g4CceLTzdOMs1od3fYjxsezKb33z1AzmjSmSY0n2ftWBUCR5demae5gJ+H3fUnOd89GyqWizoxc1/3ATsKx6DMVmZJxvBI4dACuCNR3blbVBuIHAU0ziUipbQmIZ6mpE/K1FwmeuoKWPsqMz0QfvYPeMybWqfRfHSv+WRFVEpTTRdm2T6y7VkBmXmRUOUQTYtAfWgdzUZN7aLeRveXXIIQYpZpE6G2WZWZ9V1qGpMis3G6iZ2VQVs5OdVsTgGUg6nTVtP8zPlSg9QZUUTPYj9HT8WXdb6SjheaJD3deADb85xmVOHXmjdnjx2C2dVIYfra+kGlOXeqrKlOORVh9BhHEBFVqf5oJzKiugOMvGvlBGNHPOHOTre8Xtqmnv31SUUJp22YUbl8nEZYKO04QqWNh/57EtQrRgpFhU274mttzLTNlXKu9HSH09GXdRZZJELly/xdlGjEr9aFJGozTOazc/SMpieWyqwnS8FrYxGV9Kxa+8gjbM/Cz9azEm3YjaaP9mAX6ys5FTQBefVRpL6iSATq9H6KXQjSg58POPzImmqeSdp5bbMahfquLB0uBBv47dM6UfN3ClN3WCrZnOJ22Hf4VRvga9lSiBxptX6vpD0rrGcFBkkppL9Albxo6ihp5DPTSIEPhfi4Y0LetBdSdaYK2HW6lrv70kv/rqtHcol0CX8nAzoPJ2m7Gv08G2zaCCmVrXi7oyzeccHvx2deDqG5E9j9hyR3d2Thpf2ddvzQQsxYpjxvisJ1Xibf0y1XIs++nuSlzesb64l2dzm7aQKE5aWfy3fT+Lj3ezqWpocs/cSuHwetn/bu8W0fR2K0MJbSp2tm904jbidvWHpuvkbQpx2QiV1AWYSerb/z5ebWtXs/QQ6okmGhtumnz/Vhcj0jwvUdIl8XkmVz9TgoM2uj9b/ca5SuYwtZ/aPMVLq8blVavG0G6oPwnu3k27s2Ql2or/O0i+DrkylbMO2kvBPlVGSkjbjyTupYNkl5EYk6CdQ14T4/vh5u9/p65LSgfvYf2tBMbddE8rlZxPL7Ect2xHXFlyVv98l2p2D9oiMT3w4n5JVSH74e8rbJr+H33WETOlYXEmkTLP0CeuaUi5epIPLm+rlTwCA/R5SyljWwz490Yz4N0vRCf9ccZhtdQfgt/CHtXRBmQcpUoyAI80cvqHagHWb43awW/QrCxNAi/GgHriAIZRDHSxAWAv1KAGcX3Tv9rqYXFRkVXga0YHvqUV9B+DOQqUZBEARBEIQ5IREvQRAEQRCEOSGOlyAIgiAIwpwQx0sQBEEQBGFOiOMlCIIgCIIwJ8TxEgRBEARBmBOyq5Fh3/LrvKV5weFvLXbelCwIgiAIwsKxYBEvelP3SfD8JcHFHtaZOBhVEARBEISFQ6YaGb1vH5UTIy+sFARBEARhFqRMNSYPgYynsOhQzPiwVSJxgKd3AGU8bUfpHgCc0UHN9mBN9yDQtNPJsw8x5WnnQHlqPUJ/pY3lGpsDm9vsEHB+2Gf6AbwHcApXrw6jPLrlyjuc1TtENXHQbtb1ImlrMg9SzawPzcQyFQRBEAShNImI195ndLoeuiryU34KCx2I1iC69706AuVv/NZSg/Y7ctzo+jH0nxqw/WFDXdFTZvSd7vxtGtyhO1y/R0fNXFNp/wOftvTlXNbayoHp3mEeduhw1y6Mlpqwqe4/hyOVLn6nfpyktn6oHBt69vHtGBpbn9AtKsbe5w7U0YG0ZXqf4nRlX69CTn1gGQ64TPEjTpcgCIIgzA7X8cKOeHttBN2Jz+BCB4bfezZAR6YOq8w5Gl3aaFIPboZjqL16o74Ps4EOVgPGtxfxoaxnR8qJar4t6P489eHCOBVOOkW560ZOYO/fIYyXlqFIzi215maqo7bxYRsamLdTP1I1FfLrA6ABLVlTJwiCIAhzYeprvGjKKzrkl0+fTYH7/2bhnMye8y/H0Ic2HBq58M0Db17VAB5+TinClSRYH9df4SM/mPl/xaN4giAIgiCUZ6qOF60X6lDELJq6yp66m4T6a+4WbMDqivlz4enB17+MTL73oY6OjnW+fvwa6z9mQKH6ODsy195D9wGdQ3G+BEEQBGFmuI7X9U+4Z1NPuuPWf8fUYNmETVKvPz3CD/MnrW0qF/Hqwc8HgEYrXhWmMdOS67vx+qT9XWgvjeBqJlN05YmcQrUWLV6snkDJOEZNW651gq/QKJx2GiXqY5ZOoCAIgiAIiYjXORyxqSfaPecurg9f7327gtFSPKW2/atfOuJ1/qULI3RE9NTYCfxjFt/Tqx6Ob+vQMd+f7NSh/13viKwM7fxT6ZJjQhsA6O+iC/d78PWsD7B+qNPYeoTuLXdgaPG8ybN5Bi2kjxax03SfiYJFv4miTsXTJgeYNgDQ37HMwvVBjrNK13zU5oWpLewXBEEQBMEn9831ma8pEARBEARBEEox9cX1giAIgiAIQjrieAmCIAiCIMwJOSRbEARBEARhTkjESxAEQRAEYU6I4yUIgiAIgjAnxPESBEEQBEGYE+J4CYIgCIIgzAlxvARBEARBEOaE7Gpk0Jvc6Uie0eX7+M3yc4JeVNtZG0P/+0f4em2+fAb8TpkJHDrFwB4J9fz0KBM6VWLrEY5zTlTIaj9WPxV3XXj/ZSpnXUyRDfj0v0NoL5l/LmQeBUGYJk7E69P/4uNmOGTU9Pf+8Tf6EzpncCqoI33+js9ptGx9gn/Svp8AKuNhcwjH3iHWgvA8OIejrIPQ/2DoqDE6AP7YOWprcdj4cABt6MOxOahenC5BePk4jpc6iLq5ac4JtOxBC0eSw39pvOkad4pykLGYeaTjbIDPiw/vtmy8bULtbjCV8xrPv2BZaFRNZyfOo0we6vnvn1+UwnZsEu0SfifPtf28eVWD8fBGzkcVhD8Id6qRIkjvmjDk4frUUL+e1oA5Ti+pqQTgYXgdol++jvOgpxv036nTLVSWHT0ZQ4xv2RmUzrUSUzXqPoDue3Zgd+I7Pg2E8OkEJfM26MmQkZtOLpRuCwbfH2HbpvGEo2dbVyrtZbh6P4CWfT6/jjhTMSnPd69rZ1vLO39qK/tewpticfIV1+2gZeu0aJ0k9ULl49UV0x2vPjyZ+Hri5JuuUXvAfx9YmZeYHgrLJP96PlS2bXhMkVW4fYRkkqNnhCczp21lkqwrDStDQ8u7O2xCx8jFSbtg+0nqgMHJd4l2r/B0uPQ0ob6/OUyTVag+qrQPQRB+N+7i+usbGD7VoPk2jnnttRoLMSI7H4wA1lpojgxbm9BcGsHAGGwyrJ0VNE4qIkdTCwDtd2waUhnYOhonfZ0+jvHm1y7v3XtDpETjNl7X0QjHkbi9z9hpmWeqaOFaJ57KNBG299/7aDonoQEd5VxR2sfQhzYcONPFeF11YubZS23Ytc9GmRyu32NnpfN2fFuHzv8+oVnXaCcgvk6fuIPMmdpCmR5k3ktp76Ls7LW0fGPOd/QB7fSb7l0N2p1pTCpTfXSgjp23zZeKdJprqsNrDeJrl1i7O54uoAwPrcyp3ta24dOWuRbCk7dO+5/43hyZVSHcPqgj5zLR9XH4mZc6pGcos6y2FaQHPx8A6q/dek+A8u6Q00Rpo8xq67txfVRpP1XaPbL3GZ2uB3S2VJlRJiud1KUaScipomUa2mmrrR+aZRtWF4rUx+zahyAIs8Xb1djzphv5NONvxnNw3GnGPdjF0fAIjbDNae/bKfSf7O/RkG2hA3l7mjoipLSAXzu7YPfmcQ4Xt2NotKzR24BNTK7fjUe+51/4KPwcBncFOpvC0EjXpm/q79Ub9S/L6NKOhN1nk1M9uozz1vt2hY5ZEzaV8TcyZdfLky3D3rcjVhfp+aYIgu3AleO9smr0sjrJKXULOpQ8aqH0rg6rjmPFZG4GK8txsCcDq4MXsTzPjlSHyQc6IZlNTk772N+FNg5iriJnqQdfz8ihZAOdXD3zy1GMH7+su0TOhllbubWKEr+Hn1Y/KNpj6yS1PiajWrsn2ziCbqQrKLNrdAoz9YpjBy3oUD2hZCMHy7TTQvWBzLB9CIIwOxKvk+j9O4Sx7Xz3W9B4GsJN1EFWhEaYbFF+6oL5TLTToB0ccm6wIxlEXRgyhsfU0AvxBpZxZHn/nzVkLrTOIh510odNHxRAycwaRYrEgScziraxcsfTPTPCMcBxVJCgtTDaWG/A6ooeNcd5Y1MbqvMLyTQHikSoiI5Jm0XSFJ4u8Ok1i1O/6KS4kanJOf9iIgjm2f5GCpqSs/lyZGJx2gR2in8Vj0xl6aAiT2aVyKnLp0f4Yf4sTKRn6Eh87wNEbah4u+79d68dOGw3yw+YQTsgmSQ/JanU7lX7oGiyvRc/bKq1MgXKP6v2IQjCbEk4Xny6cerTjHZaIPqUi6ZE043eNKPGjzpoZ0vzAx5xZBkiHnXGn8LTPEpmeqSsRtFcZmo6gyJLcbpddCBnysPPwnXG86U/ZtR9/RPu9U8mhzoDW+YHdHQiR2IP/n7XBmAyn++uM+0sqWd7u1jVlBxFMky+pr1L0I10aufXIVNmVQm1D2RpGb9hNJbNuqkAXM9Y21ZT1kWdr9EjjNGB26N2M7iAx1ebsEHPLqHDVajU7lEz+LSw+kzL+ZmkPgRBeBYkHS80G3q68QC2F2Wa0WKmG7f3/d2MJhqGTo7tpDY+bEPjqQ8XyojqMiXW6hjIoautHxRbp5OKTr/+eg82m/dsisDCog37f88u4oXlP6ApJScSmEVYJlqmNWjvT6fjj6eUYqLoj8n3NIkcHLWuKpB2moPJog20Hmw6cQzTrvj6pMSUkkuazCYjp33YdhWtT0qZFuXk6BlFscqy+uoeB1I9+AlN2G3VYfxr1vGuiu3eDLY63rqrqVC2PgRBeFakv0AVDavaKeTvXKJIRcrUS/mdV5Njd2alPdPdtZW/Q8/ZHUXTgc5UQfYOqXSMbFJ2Njn5Qpn2H9rQ/KWf7edJU/TZyfpw5KLqkRZEZ6eVeL5X565MWfoJeRHxzqpkudwyuddH0L+tQzvadUbrfdJ2uxXE6i/9jeVRO+KitJMyc/TAuz6+7cP9ejPeJUjlLvBCzyzccrs70fJkFiSnPohw+/Dk4uhxjp4lnu0+N4xJ2z7PpOXomSNv+n28azMpM8KWTetRYvqQly2R9xIyT0nf1aU89P2FdjU69VGxfQiC8FuRN9c/a9xOSBBmg+iZIAjCtEiZahQEQRAEQRBmgThegiAIgiAIc0KmGgVBEARBEOaERLwEQRAEQRDmhDhegiAIgiAIc0IcL0EQBEEQhDkhjpcgCIIgCMKcEMdLEARBEARhTojjxaC3YNNht/6hyepN6NFhuFlH7NBLJvH6VA82FuYOvcl8xnWYqWfCjHhubZPeTP/79MPqp/pkHIkkOiwIk+M4XtTY/4nOB4uho0b098aAeZ+o8VGnlbhe8LDcSuh8uUYg+V1cjpLYA4C/92GeRzkLwlSZg1MpPH963z6qA79ndXD9xHZYEF4IjuOlD8fe9AzzHrSiw7LP4Uidwt8FOvOZzlNzTvM/O9In9F+qq6BP7i967tnvxxqcyc4/M7KZ8Aw/4c+hmp4J5ZG2OW1EhwVhctwXqKrDhZsw5GeyJQ6pJSia1AHgB+Vy1MGzUOKw2aqk5Sf+7uJ12kG6SHTwrP6tPpA2cMBvxqHTzkG9zmG2BE/bEjocucwhvQg/EJrwn6/qIn56uUN8vbz7h6Y7aaeUKTqYGknIzj9guGS5g3nLu9aCwfdH2GYHaUfXjb6rg7VNnfgyy6sv97oeoGi95Pny9Uzn65EOC8d7x7ddGDY7KB/+O09m/mHPrQEc/9qOnh3l29eRCJ73kMyIvOtZUJ4PcFB2Bcvv7P38ufGBz4OWPcTbk02mnuk8ZbV7+i7cNkN1pcm7HiYss+y0rUy6ADvTlllxVP54G1bwMqWnm1Uu//sIp148mXl1Vq0+BGExcNd4Xd/A8KkGzbdxzGuv1YDx8KaAgV1c7Oise4emAjsjFZWjT9Sg3UheWcKheZu2/tBvxrenjoE8XL9Ho2qv16FTeDoIjRR2qPdofHT6mP+1Dgvj4/WdOhrH+PnFnS68+3MH6lxevKOlzpynfXkP7XfFp5U3PhxA+wGNqk17AqcrPW/UKfFrx9CHNhw6a1Ua0FFOIF1HmS21YZdPU+O/O9Th0PXLEdTWd+Ny5dSX7hji6/SJO4Y8PWtAm56rntlRHWv3Lm6Pe5/R6YpkhuVa4XWNYN2rjpKu83zbqXKKRFPnr+6nD+/IwzIL6kIuNdQNOmRb39u9Q/l7a4caOyew/UunT2Vud8z1oJ6dwwDbdKPF0tpahTpKd2BkHmybXl2SfBo7/8CnLXMdn32QWZf5BGWW92yksTMLmVUlR4cDMsu3wyQzHBTZ7409i5aLVKwPQVgUvMX1PW+6kU8zCpUhw9EcwilzfsixHV3GTkfv2xU6Ak3YZAY4i40P29DAjvSCd+zU4TrTxa4jXZbk1LNm420TgDuQZxfQf2pAy1lnl8Naa6LOwJabyzFifxfaSyO4iq714OtZH8bOs2ikbmWuO+/6a1ZKck5sZ3A2wA6mDqumPsL1tQe7OBrn18uB+eqaO516JagtjqAbdVJYrmuvrgP5DlJIZtm6UITRZRwZOR9gl72y6qZ1140GBfx6np6dd9186t9fFJA/OptbOKjkvz07Ug6M215K6rRHusyKPTshM7+9TCiz2TP5s86/8LaT0jYr1ocgLAKJXY29f4cwth3Jfgs7uCHc2AY8ayg8zhfmv6iFwGhs95swPOORgg1YXdEj17jcLMxehIefLD0fdMS+9wHWD03a5Ua9519M5MPkjW9UePOqBrUoXfrwacN8aPSrRvHm/jKLbenZwXI/PcIP8+d0yakvFW0Zw2NqKKAiKu1YXurDppArkyOzkC5MxNIyvDF/EqMBc5VoraiJDuXqmYrS2854AzbR5ygzULz/L/BbihSqSJR5dkl7lCez4LN9Ro+oWS4Ty2yWVJSZ3wfoaVRD1bQFYUFIOF58unHu04x2cb79FJ7O+AGPT+ZPhxl1ghNAU2vNIRuFMmidglPu9yXWY3iRg43XdfOXwU4z4UdNi5Vyvnrw9S+TJ3Tg6mjweOfhTBeYT5nQ//kXe18X7rGjKOp8/fiVs9vK69ShsZyyvmlyMuvr+ifc65/MCFrn4z271JRfgFyZhXWhNCWc47Ce6Si9mm7c2gQc2pQaKLrRFO1YOzCb1H1AJ6pUZx+WWe6zOVQfU5PZjJlUZmqKlCLKcZ5pWtKhUn0IwmKQdLyMIas1D2D72Uwz9uDnA9omttZDT0e5Rpg67CrTJRND6zm8KUaN6TR2Jlt/oaOTfH2SmepCZyut1nr/VXALPKeCpjZq6wfOmpQEkVOo16JlOz9ZjnM6qtx87QdHTbE1YDty4lKmdSYmr75oaqQG7f0ZdAYmsuOv8ykFRU3SprHLyqySg0nrDosP6IromdIH1LW9t024z9D9JMbOOev3/ClXl1yHP4Qjs7LPNvUxRZnNizSZhe0wGyyj3XQiXh6V6kMQfiPurkYLjTyoo6Q1I86IWi9q9ic4op0lFCZOTH/w3TizBI1T7i457zd2x0xqvuMdO+m7cWz6/nMN0W6cdJnRiNSuz0ikn5B7AFtX5p883WS5yuxuSubbSZtIpM9lzuWCz70cQnPH7mpMkZm3eykXr9yuzLy8O2nTNVq0HMuB3itEi5RV2ahMzi7e5O/z6ovS4x1GuH3YOmHPacR5eMPzliK3qE4K5Jtw887rK09mObqQSSDPCn2dNhJkRmSCeqbRMve/T9EzgpXNlYfbPpLtPvncbPJllv3s+cgsnRyZBXW4qMy8Z7D6cNoOtqv+QxuaRv+r1YcgLA7pjpcgCMJUKOAkCIIg/EGkTDUKgiAIgiAIs0AcL0EQBEEQhDkhU42CIAiCIAhzQiJegiAIgiAIc0IcL0EQBEEQhDkhjpcgCIIgCMKcEMdLEARBEARhTojjJQiCIAiCMCfE8WLQm5Hp8NVKZ9AJE0FvrC5zULbwO6GXoko7ycPaE3uY897nyY4GC0InOKQdI0VvmK96jiGlkWUPp5F+iNCzp4FJX3/+WYjjlWy7+j2Hf+/B33Lu5dxwHC+q9LTOL+4U6RgMq6zxJ2ocjjLbjzU2Rqm86/PqbCMj+Bue/WIho1/q0G1BWDBmqMNvXt0DHWp+PGzCIdqbzkrxQ65zsY5JQ58Bqewb6zjVYfkPP4sdOzYBuenP2jGrAtX5Th363+1h3O6xWjNjEe2lyhP1hQCPD/hvpVdi02eN8x4vdRZWc+icO6edLf/MN30OGdgz6Hyo8nYg4xwtfYRIc1j0rLfpoMr26oqdPydUhhrtO3v+YjXIuY/PJBQWmxd0DNAUdfh3EJ1tmHJe6OzaU74NX2R7q2QG/CzSOUH9onOe6uKg6kudgynnX84D9wWqygg1YcidrFRleWmOly6PPvrVPSjXEiumITJ0yU4o+SyefvKw3DA6/ehAWc/AZpMm5+R3keFW8LJTnlsw+P4I2/Yw6ujZbnliQocM+3L1yoW4cplUZpTuAcDZFSy/s/dzY6KfS/U1aNmye3lT+huXLjrkOhfKc+AAbsJLu/jByXFap3AQ/aZ43vLqI49knfNn++0jka/McodkRlF4rMvhPbTX8d67LnaXHVVn2c/26zpLF6ahw0iwPr1nOAePF5BZCPPc0WUXoAVwNGgxO211HK/tmOc7diOspzxf6XnS5Uqz/649iSnafoPPtk5yqk0qStz+3bwnv1d5sXa80LO9+jbXwavniEgf2H1Z5QnYJFt3V68OI9k7slN5N3lWsDZirsFtF4avVuEGVebgGQ9EngvuGq/rGxg+1aD5Ng4Q77UaMB7elFDs58g5HKmQcxdVMgVU+sN1PW2gQtOXqb/KgBp0B+poeHRYuwv364eF1y5sfNjFjsM89/0x9KENB4WmSHtwMxxDrbmJObC8geWlMQz/1bVJhqWzgg3dlOv4FqD9joeZG9BRjVDne7TUhl2VbyOv733siqgR2/yxTgkb9C66CPp7k/Z+PPWw9xmdrgc0POZ6985cUFSTGaCJab+jjsWmjeXw1sE0drSx0tfx9x17HY1ga2Ceix+s68bOtELvmLYzxfHe7YxyZEbUUA6qM1DXx9DAe4poQ5G0s/HrA/XwyVwiUtpHY4etm1GdRqDcQbBumuhQkK6tdVSdqXK3TI14zz6+rUPHmeLiukD5bsC2aj/VdTivXHufceBivlftB/PPl2UEZZbH2ZG672i0CnX776jDpnZOOs7Kze3GFt1zDz8jB3IDVlcA7v+ju/dg05SZ2mQkZ466fwQDx3HRnH8xz0P9oM5fl71ofec8u7GMtenbpCZsFpEZ1iVNqZ2c6MEetX+95MTKXNvGR2ba37yqwfiXmRzOe7ZKXzujtsy2PnrfPkZlIgc0um6c8I0Pq1pPSBdTykN2WgcyzH2OTdJ1R3bB2jOnfZDNQcfqnueLO1XXX+EjfkeDnGVMR/9bnK5Z4y2u9zvrPWitxR31swcNH1/jVawjx05ni0aWEyrj1iY00eydRobnHC6chhGm9+2IjbBN/bx6Y/4dpvftyjUO+y1o3F2Z9PZgF0dhI2xoNme9b6eqY2pFcqERvi33OQzQcNRfR91OGEz3iBnb3r9DNCrLaN4QNFLba9jZsdG/Q0WZEaPLuAM9H6A1XVmNO0wCR5u2M3CvY4fM83U2wC6mDqtFjHsh3IGNQ0hmFhoRm/ylXs+iSNpZ7O9it83rg6Pbx/j2wugJgk4AObO6nPb6KdPjcsQ6OoIrLw80MORtM6HzSKwL5dpPWGb55Tr/wm0Gbz95MiuJr9vKMXLL/ZPW71jIiXhi682ovUVOxzl8ZWWOHA+Of7+Pk14ZCjzbsUklwLokByPT0U44o9T3WWfUkvVsrM99ihode1E0Tlp6mt63ryxNngeC7DS4z02zScyeTUxReyBUJrGrURsXY7ioo34awk2GYZk3FFLljlPpxfEU2o0anB9qnhFkpJbaanGtzXdq2DmLaKQ2wb3YVAfMmKtOasDNxiTGsShojPhmCifUnUNVmaXhGRVHDk60wNeztOmoSUGnDg0/4OhUp+1H0vJl5kSfVWdStBOqUB8FSOtQNDr6kn29Cnq0H0cv6DPN+grJrEC5KCIW5Ss5BTcVmZAOeFNTG2+b6Bj14SKybzyipe2AszBeRXOSHX6Wo5C7sF45Zhn9hmfP0hdypz9bPTcaOCKT9E8ZTqOWGXdGyRGL7WPw2cbRDAYoAlFCSyIPRFoZHSdRR+r6XWsFNmCziQPqyL5pm1O3bSRtB6yCIsATOLTCRCRfJ8GmGxdtmlGHseNPZQ9/XlCUguVbfbKiPQ46TEwjKXsfhZHLQNEcHcEkY+Y3/BosO72U7kymgZpKBFZuNdIswcQyyyA0Qmeo6VeKxkXPzZh+nhQ78saPmhZjHU9lmQWYZdqEGwnVHb3mBzzyackZwKe09IdNF1YgLLOccpGDodZgxflyp9NDMquGmiLjdtuJQOnnxB0zOpdbaAT89hFwFJwpuBSCjhnTf/1J6exTn60dCv7cXAcwhYTTafBlttchJ9s6N0We7TuuHhkOHydRb4h6jody0O4GWm7kmDnPTk6ZxjI/hv5KR3bzLwBJxwurXU83HsD2S5pmnBgdpo+muYxB9YmMqFq7wWIJFBZeKrouK51o5IfPPigb+VHPX4Y32EDrfGoD/6KpD75GaOPDNo6u+Eg5h2vays6nJj0iw4TGfZ9FC7z7tLOj/1ZMQWYxtK6q5ACCGci9z2UjKLEzmyiXR+8/ehGAR5bMpsGkaY8e4yg4ohySyEE39mJ9N3Ig1dTkkp0W1NfD6+SKy8ylSNo5TKrDhZ7NOkC0C3G58mRWBTe6ZfMNGVOiUV06TgSiomAGtBGfIvl4DiLZw7TXRvjTn2VIfbZ2KHh/lOcAJvGdznQiHYzsQM6z83TIEpzKc+W690HLVNkIfp/qXyCKcOlInHHCCCcalk5aFFOYL+6uRgs1JgqrU9TBCWNjJ5YSyo92UFBoPeGUUPSARjVoALxdbETR3S5VocaUuasxNd98BxMvN5bnEqDDd3paedHfKLPusAmdwK5Gwtl1EkDlO3K2RtC/rUM7qxwZ6DRonUAyEuDuQrJ1RVCes3c+RTiyYzLjMkFGt32or7PdMvy+uy4c/9qGAzhlaU8qs6SeuTqmr2e/CsF97hjzfb/edOQQxCsX7cKLZJbQM65jSI7MUuVflLz6yIHrIcmTdlC1BrEMXT31yoW41706yZQZ7Wo0dTWi/Ov8/qC0WBvw0453hiXrWv3Wbz+T6jDith+3XM41zFP/oQ1NVn95MpuMPP13n2vrMqlXrB14/YCbb24zLG4bKmrrYlKereqCyz6vHadB6bo2LSLFHiV2NIae7bdtT2Z+vfh1QnC5cpll22h9zak7ykfUN7n1QKQ9V5g/6Y6XEMZRbmGxmMQgC8LkVHKIhfmRcKAE4feQMtUoCIIgFIOmiGRJxnNArdvi03KC8JsQx0sQBGFievD1r2lMEQqzgSLgekefemdhiSUagjArZKpREARBEARhTkjESxAEQRAEYU6I4yUIgiAIgjAnxPESBEEQBEGYE+J4CYIgCIIgzAlxvARBEARBEOYCwP8PGC1Oq8JwL2AAAAAASUVORK5CYII=)"
      ],
      "metadata": {
        "id": "fTBD0hL0dxGK"
      }
    },
    {
      "cell_type": "code",
      "source": [
        "tentativas = []\n",
        "palavras = ['ABOBORA','CENOURA','MANDIOCA','NABO','RABANETE']\n",
        "palavra_secreta = random.choice(palavras)\n",
        "print(palavra_secreta)\n",
        "print('---------------------------------------\\n-------------Jogo da Forca-------------\\n---------------------------------------\\nSelecione sua dificuldade:\\nDigite 1 para fácil: 12 tentativas\\nDigite 2 para médio: 8 tentativas\\nDigite 3 para difícil: 5 tentativas\\nDigite 0 a qualquer momento para voltar')\n",
        "\n",
        "while True:\n",
        "  try:\n",
        "    dif = int(input('Digite 0, 1, 2 ou 3: '))\n",
        "    if dif == 1:\n",
        "      chances = 12\n",
        "    elif dif == 2:\n",
        "      chances = 8\n",
        "    elif dif == 3:\n",
        "      chances = 5\n",
        "    elif dif == 0:\n",
        "      print('Programa encerrado')\n",
        "      break\n",
        "    else:\n",
        "      print('Digite um valor listado')\n",
        "    print('Dica: sua palavra secreta é um legume')\n",
        "    while True:\n",
        "      chute = str.upper(input('Digite uma letra: '))\n",
        "      if chute == '0':\n",
        "        print('Voltando ao Menu')\n",
        "        break\n",
        "      else:\n",
        "        if len(chute) > 1:\n",
        "          print('Digite apenas uma letra')\n",
        "          continue\n",
        "        tentativas.append(chute)\n",
        "        descoberto = ''\n",
        "        for letra in palavra_secreta:\n",
        "          if letra in tentativas:\n",
        "            descoberto += letra\n",
        "          else:\n",
        "            descoberto += '_ '\n",
        "        if chute not in palavra_secreta:\n",
        "          chances -= 1\n",
        "        if descoberto == palavra_secreta:\n",
        "          print('-=' * 5 + '- Parabéns, você acertou! -' + '=-' * 5)\n",
        "          break\n",
        "        else:\n",
        "          print(f'{descoberto}')\n",
        "        if chances <= 0:\n",
        "          print(f'Você perdeu para a forca\\n ____\\n |   |\\n |   O\\n |  /|\\ \\n |  / \\ \\n_|____  A palavra era {palavra_secreta}')\n",
        "          break\n",
        "        print(f'Você pode errar {chances} vezes')\n",
        "  except ValueError:\n",
        "    print('Deve ser uma letra')"
      ],
      "metadata": {
        "colab": {
          "base_uri": "https://localhost:8080/"
        },
        "id": "xoZx8IzMeZvs",
        "outputId": "6f268670-bc0b-4c69-a505-627c7fdfebd6"
      },
      "execution_count": 16,
      "outputs": [
        {
          "output_type": "stream",
          "name": "stdout",
          "text": [
            "MANDIOCA\n",
            "---------------------------------------\n",
            "-------------Jogo da Forca-------------\n",
            "---------------------------------------\n",
            "Selecione sua dificuldade:\n",
            "Digite 1 para fácil: 12 tentativas\n",
            "Digite 2 para médio: 8 tentativas\n",
            "Digite 3 para difícil: 5 tentativas\n",
            "Digite 0 a qualquer momento para voltar\n",
            "Digite 0, 1, 2 ou 3: 0\n",
            "Encerrando\n"
          ]
        }
      ]
    },
    {
      "cell_type": "code",
      "source": [
        "# Forca\n",
        "print('Você perdeu para a forca')\n",
        "print(f' ____\\n |   |\\n |   O\\n |  /|\\ \\n |  / \\ \\n_|____  A palavra era {palavra_secreta}')"
      ],
      "metadata": {
        "colab": {
          "base_uri": "https://localhost:8080/"
        },
        "id": "kuxUotfsF7SR",
        "outputId": "a2b3df09-c517-492f-b86a-086dccd32426"
      },
      "execution_count": null,
      "outputs": [
        {
          "output_type": "stream",
          "name": "stdout",
          "text": [
            "Você perdeu para a forca\n",
            " ____\n",
            " |   |\n",
            " |   O\n",
            " |  /|\\ \n",
            " |  / \\ \n",
            "_|____  A palavra era Rabanete\n"
          ]
        }
      ]
    }
  ]
}