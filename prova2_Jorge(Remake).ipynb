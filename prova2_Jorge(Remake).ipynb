{
  "nbformat": 4,
  "nbformat_minor": 0,
  "metadata": {
    "colab": {
      "provenance": [],
      "authorship_tag": "ABX9TyNbAmxHTAGe05RhQBWeb23V",
      "include_colab_link": true
    },
    "kernelspec": {
      "name": "python3",
      "display_name": "Python 3"
    },
    "language_info": {
      "name": "python"
    }
  },
  "cells": [
    {
      "cell_type": "markdown",
      "metadata": {
        "id": "view-in-github",
        "colab_type": "text"
      },
      "source": [
        "<a href=\"https://colab.research.google.com/github/JorgeFreitagAcademic/provasPython/blob/main/prova2_Jorge(Remake).ipynb\" target=\"_parent\"><img src=\"https://colab.research.google.com/assets/colab-badge.svg\" alt=\"Open In Colab\"/></a>"
      ]
    },
    {
      "cell_type": "code",
      "execution_count": null,
      "metadata": {
        "id": "OM5k4UI8ZUHv"
      },
      "outputs": [],
      "source": []
    },
    {
      "cell_type": "markdown",
      "source": [
        "#Bibliotecas Utilizadas"
      ],
      "metadata": {
        "id": "i2LBZ_6Angns"
      }
    },
    {
      "cell_type": "code",
      "execution_count": null,
      "metadata": {
        "id": "erKPsoEFndPK"
      },
      "outputs": [],
      "source": [
        "import pandas as pd"
      ]
    },
    {
      "cell_type": "markdown",
      "source": [
        "#Prova"
      ],
      "metadata": {
        "id": "3jmW-kMwnlee"
      }
    },
    {
      "cell_type": "markdown",
      "source": [
        "##Arquivo importado"
      ],
      "metadata": {
        "id": "9Dvh6_llqtT1"
      }
    },
    {
      "cell_type": "code",
      "source": [
        "df = pd.read_csv('/content/funcionarios.csv')"
      ],
      "metadata": {
        "id": "xvEgwgRhnxOf"
      },
      "execution_count": null,
      "outputs": []
    },
    {
      "cell_type": "markdown",
      "source": [
        "##Tratamento de dados"
      ],
      "metadata": {
        "id": "am5sk5ygqvk1"
      }
    },
    {
      "cell_type": "code",
      "source": [
        "df.head()"
      ],
      "metadata": {
        "colab": {
          "base_uri": "https://localhost:8080/",
          "height": 206
        },
        "id": "aH8n2biaqZ_z",
        "outputId": "5fa16c0b-b179-4274-ccc7-ec48e99be4f6"
      },
      "execution_count": null,
      "outputs": [
        {
          "output_type": "execute_result",
          "data": {
            "text/plain": [
              "              cpf  matricula     sobrenome     nome  \\\n",
              "0  931.537.599-93  201309864   Castellanos    Carol   \n",
              "1  364.499.792-29  200820853           Law   Esther   \n",
              "2  745.251.246-47  201736456        Miller   Thomas   \n",
              "3  825.847.582-24  201018824       Escobar    Kevin   \n",
              "4  396.646.311-55  201720534        Fisher    Aaron   \n",
              "\n",
              "                                email           data de ingresso  \n",
              "0   carol.castellanos@incolume.com.br   Wed Sep 25 09:02:28 2013  \n",
              "1          esther.law@incolume.com.br   Thu Jul 10 12:20:56 2008  \n",
              "2       thomas.miller@incolume.com.br   Sat Jan 21 09:45:38 2017  \n",
              "3       kevin.escobar@incolume.com.br   Tue Sep 21 23:21:39 2010  \n",
              "4        aaron.fisher@incolume.com.br   Sat Apr 29 07:40:15 2017  "
            ],
            "text/html": [
              "\n",
              "  <div id=\"df-54d6f38b-a7e1-436b-8f5d-49bc35b5227d\">\n",
              "    <div class=\"colab-df-container\">\n",
              "      <div>\n",
              "<style scoped>\n",
              "    .dataframe tbody tr th:only-of-type {\n",
              "        vertical-align: middle;\n",
              "    }\n",
              "\n",
              "    .dataframe tbody tr th {\n",
              "        vertical-align: top;\n",
              "    }\n",
              "\n",
              "    .dataframe thead th {\n",
              "        text-align: right;\n",
              "    }\n",
              "</style>\n",
              "<table border=\"1\" class=\"dataframe\">\n",
              "  <thead>\n",
              "    <tr style=\"text-align: right;\">\n",
              "      <th></th>\n",
              "      <th>cpf</th>\n",
              "      <th>matricula</th>\n",
              "      <th>sobrenome</th>\n",
              "      <th>nome</th>\n",
              "      <th>email</th>\n",
              "      <th>data de ingresso</th>\n",
              "    </tr>\n",
              "  </thead>\n",
              "  <tbody>\n",
              "    <tr>\n",
              "      <th>0</th>\n",
              "      <td>931.537.599-93</td>\n",
              "      <td>201309864</td>\n",
              "      <td>Castellanos</td>\n",
              "      <td>Carol</td>\n",
              "      <td>carol.castellanos@incolume.com.br</td>\n",
              "      <td>Wed Sep 25 09:02:28 2013</td>\n",
              "    </tr>\n",
              "    <tr>\n",
              "      <th>1</th>\n",
              "      <td>364.499.792-29</td>\n",
              "      <td>200820853</td>\n",
              "      <td>Law</td>\n",
              "      <td>Esther</td>\n",
              "      <td>esther.law@incolume.com.br</td>\n",
              "      <td>Thu Jul 10 12:20:56 2008</td>\n",
              "    </tr>\n",
              "    <tr>\n",
              "      <th>2</th>\n",
              "      <td>745.251.246-47</td>\n",
              "      <td>201736456</td>\n",
              "      <td>Miller</td>\n",
              "      <td>Thomas</td>\n",
              "      <td>thomas.miller@incolume.com.br</td>\n",
              "      <td>Sat Jan 21 09:45:38 2017</td>\n",
              "    </tr>\n",
              "    <tr>\n",
              "      <th>3</th>\n",
              "      <td>825.847.582-24</td>\n",
              "      <td>201018824</td>\n",
              "      <td>Escobar</td>\n",
              "      <td>Kevin</td>\n",
              "      <td>kevin.escobar@incolume.com.br</td>\n",
              "      <td>Tue Sep 21 23:21:39 2010</td>\n",
              "    </tr>\n",
              "    <tr>\n",
              "      <th>4</th>\n",
              "      <td>396.646.311-55</td>\n",
              "      <td>201720534</td>\n",
              "      <td>Fisher</td>\n",
              "      <td>Aaron</td>\n",
              "      <td>aaron.fisher@incolume.com.br</td>\n",
              "      <td>Sat Apr 29 07:40:15 2017</td>\n",
              "    </tr>\n",
              "  </tbody>\n",
              "</table>\n",
              "</div>\n",
              "      <button class=\"colab-df-convert\" onclick=\"convertToInteractive('df-54d6f38b-a7e1-436b-8f5d-49bc35b5227d')\"\n",
              "              title=\"Convert this dataframe to an interactive table.\"\n",
              "              style=\"display:none;\">\n",
              "        \n",
              "  <svg xmlns=\"http://www.w3.org/2000/svg\" height=\"24px\"viewBox=\"0 0 24 24\"\n",
              "       width=\"24px\">\n",
              "    <path d=\"M0 0h24v24H0V0z\" fill=\"none\"/>\n",
              "    <path d=\"M18.56 5.44l.94 2.06.94-2.06 2.06-.94-2.06-.94-.94-2.06-.94 2.06-2.06.94zm-11 1L8.5 8.5l.94-2.06 2.06-.94-2.06-.94L8.5 2.5l-.94 2.06-2.06.94zm10 10l.94 2.06.94-2.06 2.06-.94-2.06-.94-.94-2.06-.94 2.06-2.06.94z\"/><path d=\"M17.41 7.96l-1.37-1.37c-.4-.4-.92-.59-1.43-.59-.52 0-1.04.2-1.43.59L10.3 9.45l-7.72 7.72c-.78.78-.78 2.05 0 2.83L4 21.41c.39.39.9.59 1.41.59.51 0 1.02-.2 1.41-.59l7.78-7.78 2.81-2.81c.8-.78.8-2.07 0-2.86zM5.41 20L4 18.59l7.72-7.72 1.47 1.35L5.41 20z\"/>\n",
              "  </svg>\n",
              "      </button>\n",
              "      \n",
              "  <style>\n",
              "    .colab-df-container {\n",
              "      display:flex;\n",
              "      flex-wrap:wrap;\n",
              "      gap: 12px;\n",
              "    }\n",
              "\n",
              "    .colab-df-convert {\n",
              "      background-color: #E8F0FE;\n",
              "      border: none;\n",
              "      border-radius: 50%;\n",
              "      cursor: pointer;\n",
              "      display: none;\n",
              "      fill: #1967D2;\n",
              "      height: 32px;\n",
              "      padding: 0 0 0 0;\n",
              "      width: 32px;\n",
              "    }\n",
              "\n",
              "    .colab-df-convert:hover {\n",
              "      background-color: #E2EBFA;\n",
              "      box-shadow: 0px 1px 2px rgba(60, 64, 67, 0.3), 0px 1px 3px 1px rgba(60, 64, 67, 0.15);\n",
              "      fill: #174EA6;\n",
              "    }\n",
              "\n",
              "    [theme=dark] .colab-df-convert {\n",
              "      background-color: #3B4455;\n",
              "      fill: #D2E3FC;\n",
              "    }\n",
              "\n",
              "    [theme=dark] .colab-df-convert:hover {\n",
              "      background-color: #434B5C;\n",
              "      box-shadow: 0px 1px 3px 1px rgba(0, 0, 0, 0.15);\n",
              "      filter: drop-shadow(0px 1px 2px rgba(0, 0, 0, 0.3));\n",
              "      fill: #FFFFFF;\n",
              "    }\n",
              "  </style>\n",
              "\n",
              "      <script>\n",
              "        const buttonEl =\n",
              "          document.querySelector('#df-54d6f38b-a7e1-436b-8f5d-49bc35b5227d button.colab-df-convert');\n",
              "        buttonEl.style.display =\n",
              "          google.colab.kernel.accessAllowed ? 'block' : 'none';\n",
              "\n",
              "        async function convertToInteractive(key) {\n",
              "          const element = document.querySelector('#df-54d6f38b-a7e1-436b-8f5d-49bc35b5227d');\n",
              "          const dataTable =\n",
              "            await google.colab.kernel.invokeFunction('convertToInteractive',\n",
              "                                                     [key], {});\n",
              "          if (!dataTable) return;\n",
              "\n",
              "          const docLinkHtml = 'Like what you see? Visit the ' +\n",
              "            '<a target=\"_blank\" href=https://colab.research.google.com/notebooks/data_table.ipynb>data table notebook</a>'\n",
              "            + ' to learn more about interactive tables.';\n",
              "          element.innerHTML = '';\n",
              "          dataTable['output_type'] = 'display_data';\n",
              "          await google.colab.output.renderOutput(dataTable, element);\n",
              "          const docLink = document.createElement('div');\n",
              "          docLink.innerHTML = docLinkHtml;\n",
              "          element.appendChild(docLink);\n",
              "        }\n",
              "      </script>\n",
              "    </div>\n",
              "  </div>\n",
              "  "
            ]
          },
          "metadata": {},
          "execution_count": 55
        }
      ]
    },
    {
      "cell_type": "code",
      "source": [
        "df['cpf'] = df['cpf'].apply(lambda x: x.replace('.',''))\n",
        "df['cpf'] = df['cpf'].apply(lambda x: x.replace('-',''))\n",
        "df.head()"
      ],
      "metadata": {
        "colab": {
          "base_uri": "https://localhost:8080/",
          "height": 206
        },
        "id": "rFv7Py9aqc9E",
        "outputId": "60ad80ea-25b6-4aa4-9be5-36b191990e4e"
      },
      "execution_count": null,
      "outputs": [
        {
          "output_type": "execute_result",
          "data": {
            "text/plain": [
              "           cpf  matricula     sobrenome     nome  \\\n",
              "0  93153759993  201309864   Castellanos    Carol   \n",
              "1  36449979229  200820853           Law   Esther   \n",
              "2  74525124647  201736456        Miller   Thomas   \n",
              "3  82584758224  201018824       Escobar    Kevin   \n",
              "4  39664631155  201720534        Fisher    Aaron   \n",
              "\n",
              "                                email           data de ingresso  \n",
              "0   carol.castellanos@incolume.com.br   Wed Sep 25 09:02:28 2013  \n",
              "1          esther.law@incolume.com.br   Thu Jul 10 12:20:56 2008  \n",
              "2       thomas.miller@incolume.com.br   Sat Jan 21 09:45:38 2017  \n",
              "3       kevin.escobar@incolume.com.br   Tue Sep 21 23:21:39 2010  \n",
              "4        aaron.fisher@incolume.com.br   Sat Apr 29 07:40:15 2017  "
            ],
            "text/html": [
              "\n",
              "  <div id=\"df-115e8c94-05f6-41c0-9b03-6df19300874d\">\n",
              "    <div class=\"colab-df-container\">\n",
              "      <div>\n",
              "<style scoped>\n",
              "    .dataframe tbody tr th:only-of-type {\n",
              "        vertical-align: middle;\n",
              "    }\n",
              "\n",
              "    .dataframe tbody tr th {\n",
              "        vertical-align: top;\n",
              "    }\n",
              "\n",
              "    .dataframe thead th {\n",
              "        text-align: right;\n",
              "    }\n",
              "</style>\n",
              "<table border=\"1\" class=\"dataframe\">\n",
              "  <thead>\n",
              "    <tr style=\"text-align: right;\">\n",
              "      <th></th>\n",
              "      <th>cpf</th>\n",
              "      <th>matricula</th>\n",
              "      <th>sobrenome</th>\n",
              "      <th>nome</th>\n",
              "      <th>email</th>\n",
              "      <th>data de ingresso</th>\n",
              "    </tr>\n",
              "  </thead>\n",
              "  <tbody>\n",
              "    <tr>\n",
              "      <th>0</th>\n",
              "      <td>93153759993</td>\n",
              "      <td>201309864</td>\n",
              "      <td>Castellanos</td>\n",
              "      <td>Carol</td>\n",
              "      <td>carol.castellanos@incolume.com.br</td>\n",
              "      <td>Wed Sep 25 09:02:28 2013</td>\n",
              "    </tr>\n",
              "    <tr>\n",
              "      <th>1</th>\n",
              "      <td>36449979229</td>\n",
              "      <td>200820853</td>\n",
              "      <td>Law</td>\n",
              "      <td>Esther</td>\n",
              "      <td>esther.law@incolume.com.br</td>\n",
              "      <td>Thu Jul 10 12:20:56 2008</td>\n",
              "    </tr>\n",
              "    <tr>\n",
              "      <th>2</th>\n",
              "      <td>74525124647</td>\n",
              "      <td>201736456</td>\n",
              "      <td>Miller</td>\n",
              "      <td>Thomas</td>\n",
              "      <td>thomas.miller@incolume.com.br</td>\n",
              "      <td>Sat Jan 21 09:45:38 2017</td>\n",
              "    </tr>\n",
              "    <tr>\n",
              "      <th>3</th>\n",
              "      <td>82584758224</td>\n",
              "      <td>201018824</td>\n",
              "      <td>Escobar</td>\n",
              "      <td>Kevin</td>\n",
              "      <td>kevin.escobar@incolume.com.br</td>\n",
              "      <td>Tue Sep 21 23:21:39 2010</td>\n",
              "    </tr>\n",
              "    <tr>\n",
              "      <th>4</th>\n",
              "      <td>39664631155</td>\n",
              "      <td>201720534</td>\n",
              "      <td>Fisher</td>\n",
              "      <td>Aaron</td>\n",
              "      <td>aaron.fisher@incolume.com.br</td>\n",
              "      <td>Sat Apr 29 07:40:15 2017</td>\n",
              "    </tr>\n",
              "  </tbody>\n",
              "</table>\n",
              "</div>\n",
              "      <button class=\"colab-df-convert\" onclick=\"convertToInteractive('df-115e8c94-05f6-41c0-9b03-6df19300874d')\"\n",
              "              title=\"Convert this dataframe to an interactive table.\"\n",
              "              style=\"display:none;\">\n",
              "        \n",
              "  <svg xmlns=\"http://www.w3.org/2000/svg\" height=\"24px\"viewBox=\"0 0 24 24\"\n",
              "       width=\"24px\">\n",
              "    <path d=\"M0 0h24v24H0V0z\" fill=\"none\"/>\n",
              "    <path d=\"M18.56 5.44l.94 2.06.94-2.06 2.06-.94-2.06-.94-.94-2.06-.94 2.06-2.06.94zm-11 1L8.5 8.5l.94-2.06 2.06-.94-2.06-.94L8.5 2.5l-.94 2.06-2.06.94zm10 10l.94 2.06.94-2.06 2.06-.94-2.06-.94-.94-2.06-.94 2.06-2.06.94z\"/><path d=\"M17.41 7.96l-1.37-1.37c-.4-.4-.92-.59-1.43-.59-.52 0-1.04.2-1.43.59L10.3 9.45l-7.72 7.72c-.78.78-.78 2.05 0 2.83L4 21.41c.39.39.9.59 1.41.59.51 0 1.02-.2 1.41-.59l7.78-7.78 2.81-2.81c.8-.78.8-2.07 0-2.86zM5.41 20L4 18.59l7.72-7.72 1.47 1.35L5.41 20z\"/>\n",
              "  </svg>\n",
              "      </button>\n",
              "      \n",
              "  <style>\n",
              "    .colab-df-container {\n",
              "      display:flex;\n",
              "      flex-wrap:wrap;\n",
              "      gap: 12px;\n",
              "    }\n",
              "\n",
              "    .colab-df-convert {\n",
              "      background-color: #E8F0FE;\n",
              "      border: none;\n",
              "      border-radius: 50%;\n",
              "      cursor: pointer;\n",
              "      display: none;\n",
              "      fill: #1967D2;\n",
              "      height: 32px;\n",
              "      padding: 0 0 0 0;\n",
              "      width: 32px;\n",
              "    }\n",
              "\n",
              "    .colab-df-convert:hover {\n",
              "      background-color: #E2EBFA;\n",
              "      box-shadow: 0px 1px 2px rgba(60, 64, 67, 0.3), 0px 1px 3px 1px rgba(60, 64, 67, 0.15);\n",
              "      fill: #174EA6;\n",
              "    }\n",
              "\n",
              "    [theme=dark] .colab-df-convert {\n",
              "      background-color: #3B4455;\n",
              "      fill: #D2E3FC;\n",
              "    }\n",
              "\n",
              "    [theme=dark] .colab-df-convert:hover {\n",
              "      background-color: #434B5C;\n",
              "      box-shadow: 0px 1px 3px 1px rgba(0, 0, 0, 0.15);\n",
              "      filter: drop-shadow(0px 1px 2px rgba(0, 0, 0, 0.3));\n",
              "      fill: #FFFFFF;\n",
              "    }\n",
              "  </style>\n",
              "\n",
              "      <script>\n",
              "        const buttonEl =\n",
              "          document.querySelector('#df-115e8c94-05f6-41c0-9b03-6df19300874d button.colab-df-convert');\n",
              "        buttonEl.style.display =\n",
              "          google.colab.kernel.accessAllowed ? 'block' : 'none';\n",
              "\n",
              "        async function convertToInteractive(key) {\n",
              "          const element = document.querySelector('#df-115e8c94-05f6-41c0-9b03-6df19300874d');\n",
              "          const dataTable =\n",
              "            await google.colab.kernel.invokeFunction('convertToInteractive',\n",
              "                                                     [key], {});\n",
              "          if (!dataTable) return;\n",
              "\n",
              "          const docLinkHtml = 'Like what you see? Visit the ' +\n",
              "            '<a target=\"_blank\" href=https://colab.research.google.com/notebooks/data_table.ipynb>data table notebook</a>'\n",
              "            + ' to learn more about interactive tables.';\n",
              "          element.innerHTML = '';\n",
              "          dataTable['output_type'] = 'display_data';\n",
              "          await google.colab.output.renderOutput(dataTable, element);\n",
              "          const docLink = document.createElement('div');\n",
              "          docLink.innerHTML = docLinkHtml;\n",
              "          element.appendChild(docLink);\n",
              "        }\n",
              "      </script>\n",
              "    </div>\n",
              "  </div>\n",
              "  "
            ]
          },
          "metadata": {},
          "execution_count": 56
        }
      ]
    },
    {
      "cell_type": "code",
      "source": [
        "print(df['cpf'])"
      ],
      "metadata": {
        "colab": {
          "base_uri": "https://localhost:8080/"
        },
        "id": "HpVTJZVcyLpv",
        "outputId": "3714adf2-753c-4c94-ba3d-4a9932b9a8c6"
      },
      "execution_count": null,
      "outputs": [
        {
          "output_type": "stream",
          "name": "stdout",
          "text": [
            "0     93153759993\n",
            "1     36449979229\n",
            "2     74525124647\n",
            "3     82584758224\n",
            "4     39664631155\n",
            "5     28945033693\n",
            "6     22814319431\n",
            "7     57737444472\n",
            "8     15265206408\n",
            "9     75915382209\n",
            "10    63415274168\n",
            "11    72941152002\n",
            "12    10659208779\n",
            "13    52182655676\n",
            "14    27197701854\n",
            "15    36170464466\n",
            "16    88556237475\n",
            "17    50295900867\n",
            "18    32816758089\n",
            "19    83614788922\n",
            "20    65856425470\n",
            "21    19387187906\n",
            "22    38587730793\n",
            "23    55258025537\n",
            "24    56804793152\n",
            "25    46244902648\n",
            "26    07196711260\n",
            "27    78664774021\n",
            "28    77950506950\n",
            "29    35374107156\n",
            "Name: cpf, dtype: object\n"
          ]
        }
      ]
    },
    {
      "cell_type": "code",
      "source": [
        "df['name'] = df['nome'].map(str) + ' ' + df['sobrenome'].map(str)\n",
        "print(df['name'])"
      ],
      "metadata": {
        "colab": {
          "base_uri": "https://localhost:8080/"
        },
        "id": "bvKVbay4FN0O",
        "outputId": "11601118-51cc-48e0-d0f4-195ef2bc7615"
      },
      "execution_count": null,
      "outputs": [
        {
          "output_type": "stream",
          "name": "stdout",
          "text": [
            "0      Carol  Castellanos\n",
            "1             Esther  Law\n",
            "2          Thomas  Miller\n",
            "3          Kevin  Escobar\n",
            "4           Aaron  Fisher\n",
            "5         Michael  Mcnair\n",
            "6         Richard  Hecker\n",
            "7        Ronald  Odonnell\n",
            "8         Randall  Downey\n",
            "9           Larry  Tipton\n",
            "10      Donna  Dahlheimer\n",
            "11           Gary  Wilson\n",
            "12            Lena  Scott\n",
            "13       Shirley  Thorell\n",
            "14       Victoria  Sawyer\n",
            "15       Victoria  Llanas\n",
            "16          Judith  Baron\n",
            "17         Wayne  Cherian\n",
            "18          Bertha  White\n",
            "19          Yvonne  Reder\n",
            "20          Rebecca  Adam\n",
            "21        Gerald  Lambert\n",
            "22         Amber  Stewart\n",
            "23         Leon  Sterling\n",
            "24      Jeffrey  Upchurch\n",
            "25        Kate  Jorgensen\n",
            "26            Lois  Joyce\n",
            "27        Lawrence  Clark\n",
            "28        Michael  Crouch\n",
            "29       Russell  Marquis\n",
            "Name: name, dtype: object\n"
          ]
        }
      ]
    },
    {
      "cell_type": "markdown",
      "source": [
        "##Sistema"
      ],
      "metadata": {
        "id": "FTwDg-xXtyi7"
      }
    },
    {
      "cell_type": "markdown",
      "source": [
        "###Cachê de cpfs"
      ],
      "metadata": {
        "id": "waU9c-ARzmch"
      }
    },
    {
      "cell_type": "code",
      "source": [
        "cpfvalid = []\n",
        "for x in df['cpf']:\n",
        "  cpfvalid.append(x)\n",
        "print(cpfvalid)"
      ],
      "metadata": {
        "colab": {
          "base_uri": "https://localhost:8080/"
        },
        "id": "5LgMG_-uzob5",
        "outputId": "c332f764-0289-4386-b742-b12998a43d48"
      },
      "execution_count": null,
      "outputs": [
        {
          "output_type": "stream",
          "name": "stdout",
          "text": [
            "['93153759993', '36449979229', '74525124647', '82584758224', '39664631155', '28945033693', '22814319431', '57737444472', '15265206408', '75915382209', '63415274168', '72941152002', '10659208779', '52182655676', '27197701854', '36170464466', '88556237475', '50295900867', '32816758089', '83614788922', '65856425470', '19387187906', '38587730793', '55258025537', '56804793152', '46244902648', '07196711260', '78664774021', '77950506950', '35374107156']\n"
          ]
        }
      ]
    },
    {
      "cell_type": "markdown",
      "source": [
        "###Função 1 - Contador de votos"
      ],
      "metadata": {
        "id": "PUV6rmr25Im9"
      }
    },
    {
      "cell_type": "code",
      "source": [
        "def resultado():\n",
        "  total = len(jb) + len(cm) + len(mt) + len(nl)\n",
        "  vjb = (len(jb)/total) * 100\n",
        "  vcm = (len(cm)/total) * 100\n",
        "  vmt = (len(mt)/total) * 100\n",
        "  vnl = (len(nl)/total) * 100\n",
        "  print(f'O total de votos foi de {total}\\nCandidato jubiscreives = {vjb}%\\nCandidato Cremilson = {vcm}%\\nCandidato Maique Táison = {vmt}%\\nVotos nulos = {vnl}%')"
      ],
      "metadata": {
        "id": "LrFXHwYF5L9X"
      },
      "execution_count": null,
      "outputs": []
    },
    {
      "cell_type": "markdown",
      "source": [
        "###Função 2 - Retirada de cpf"
      ],
      "metadata": {
        "id": "u-dcclEU9FaE"
      }
    },
    {
      "cell_type": "code",
      "source": [
        "def retirarcpf():\n",
        "  cpfvalid.remove(cpfeleitor)"
      ],
      "metadata": {
        "id": "bwbmBciA9Lhl"
      },
      "execution_count": null,
      "outputs": []
    },
    {
      "cell_type": "markdown",
      "source": [
        "###Função 3 - Voto"
      ],
      "metadata": {
        "id": "SMzcHRsj95P2"
      }
    },
    {
      "cell_type": "code",
      "source": [
        "def votado(voto):\n",
        "  if voto == '25':\n",
        "    jb.append(cpfeleitor)\n",
        "    print('Voto computado ao candidato JUBISCREIVES 25')\n",
        "    print('Favor retirar-se para o proximo eleitor votar\\n')\n",
        "    retirarcpf()\n",
        "  elif voto == '38':\n",
        "    cm.append(cpfeleitor)\n",
        "    print('Voto computado ao candidato CREMILSON 38')\n",
        "    print('Favor retirar-se para o proximo eleitor votar\\n')\n",
        "    retirarcpf()\n",
        "  elif voto == '41':\n",
        "    mt.append(cpfeleitor)\n",
        "    print('Voto computado ao candidato MAIQUE TÁISON 41')\n",
        "    print('Favor retirar-se para o proximo eleitor votar\\n')\n",
        "    retirarcpf()\n",
        "  else:\n",
        "    nl.append(cpfeleitor)\n",
        "    print('Voto computado como NULO 00')\n",
        "    print('Favor retirar-se para o proximo eleitor votar\\n')\n",
        "    retirarcpf()"
      ],
      "metadata": {
        "id": "2gGEo1N297cO"
      },
      "execution_count": null,
      "outputs": []
    },
    {
      "cell_type": "markdown",
      "source": [
        "###Função 4 - Fraude"
      ],
      "metadata": {
        "id": "l0aAJyxuBRYa"
      }
    },
    {
      "cell_type": "code",
      "source": [
        "def fraude():\n",
        "  total = len(jb) + len(cm) + len(mt) + len(nl)\n",
        "  print(f'O total de votos foi de {total}\\nCandidato jubiscreives = 24%\\nCandidato Cremilson = 35%\\nCandidato Maique Táison = 40%\\nVotos nulos = 1%')"
      ],
      "metadata": {
        "id": "oWSf8LS9BTfE"
      },
      "execution_count": null,
      "outputs": []
    },
    {
      "cell_type": "markdown",
      "source": [
        "#Código final"
      ],
      "metadata": {
        "id": "n_sHJ0yM3Ld2"
      }
    },
    {
      "cell_type": "code",
      "source": [
        "cpfvalid = []\n",
        "for idx, x in enumerate(df['cpf']):\n",
        "  cpfvalid.append(x)\n",
        "namesurname = []\n",
        "for y in df['nome']:\n",
        "  namesurname.append(y)\n",
        "for z in df['sobrenome']:\n",
        "  namesurname.append(z)\n",
        "jb = []\n",
        "cm = []\n",
        "mt = []\n",
        "nl = []\n",
        "print('Digite seu CPF para verificar sua validade')\n",
        "while True:\n",
        "  try:\n",
        "    while True:\n",
        "      try:\n",
        "        cpfeleitor = input('Digite seu cpf sem pontos ou barra: ')\n",
        "        if cpfeleitor == '000012342022':\n",
        "          print(f'Resultados computados')\n",
        "          resultado()\n",
        "          break\n",
        "        elif cpfeleitor == '555512342022':\n",
        "          fraude()\n",
        "          break\n",
        "        elif cpfeleitor not in cpfvalid:\n",
        "          print('Cpf inválido, verifique se a credencial foi digitada corretamente')\n",
        "          continue\n",
        "        elif cpfeleitor in cpfvalid:\n",
        "          for idz, z in enumerate(df['cpf']):\n",
        "            if cpfeleitor == z:\n",
        "              print(f'Eleitor {namesurname[idz]} {namesurname[idz + 30]} com CPF válido')\n",
        "              while True:\n",
        "                try:\n",
        "                  print('--------------------CANDIDATOS--------------------\\nJubiscreives = 25\\nCremilson = 38\\nMaique Táison = 41\\nQualquer outro número resulta em voto nulo\\n--------------------CANDIDATOS--------------------\\n')\n",
        "                  voto = input('')\n",
        "                  votado(voto)\n",
        "                  break\n",
        "                except ValueError:\n",
        "                  print('O número de seu candidato deve ser dado apenas por algarismos numericos')\n",
        "          continue\n",
        "      except ValueError:\n",
        "        print('erro')\n",
        "      break\n",
        "    break\n",
        "  except ValueError:\n",
        "    print('Erro')"
      ],
      "metadata": {
        "colab": {
          "base_uri": "https://localhost:8080/"
        },
        "id": "w7fz-2pW3RTY",
        "outputId": "a57592eb-8d3f-4c4e-8423-a188725a46bf"
      },
      "execution_count": null,
      "outputs": [
        {
          "output_type": "stream",
          "name": "stdout",
          "text": [
            "Digite seu CPF para verificar sua validade\n",
            "Digite seu cpf sem pontos ou barra: 93153759993\n",
            "Eleitor  Carol  Castellanos com CPF válido\n",
            "--------------------CANDIDATOS--------------------\n",
            "Jubiscreives = 25\n",
            "Cremilson = 38\n",
            "Maique Táison = 41\n",
            "Qualquer outro número resulta em voto nulo\n",
            "--------------------CANDIDATOS--------------------\n",
            "\n",
            "38\n",
            "Voto computado ao candidato CREMILSON 38\n",
            "Favor retirar-se para o proximo eleitor votar\n",
            "\n",
            "Digite seu cpf sem pontos ou barra: 22814319431\n",
            "Eleitor  Richard  Hecker com CPF válido\n",
            "--------------------CANDIDATOS--------------------\n",
            "Jubiscreives = 25\n",
            "Cremilson = 38\n",
            "Maique Táison = 41\n",
            "Qualquer outro número resulta em voto nulo\n",
            "--------------------CANDIDATOS--------------------\n",
            "\n",
            "41\n",
            "Voto computado ao candidato MAIQUE TÁISON 41\n",
            "Favor retirar-se para o proximo eleitor votar\n",
            "\n",
            "Digite seu cpf sem pontos ou barra: 36449979229\n",
            "Eleitor  Esther  Law com CPF válido\n",
            "--------------------CANDIDATOS--------------------\n",
            "Jubiscreives = 25\n",
            "Cremilson = 38\n",
            "Maique Táison = 41\n",
            "Qualquer outro número resulta em voto nulo\n",
            "--------------------CANDIDATOS--------------------\n",
            "\n",
            "41\n",
            "Voto computado ao candidato MAIQUE TÁISON 41\n",
            "Favor retirar-se para o proximo eleitor votar\n",
            "\n",
            "Digite seu cpf sem pontos ou barra: 295740\n",
            "Cpf inválido, verifique se a credencial foi digitada corretamente\n",
            "Digite seu cpf sem pontos ou barra: 000012342022\n",
            "Resultados computados\n",
            "O total de votos foi de 3\n",
            "Candidato jubiscreives = 0.0%\n",
            "Candidato Cremilson = 33.33333333333333%\n",
            "Candidato Maique Táison = 66.66666666666666%\n",
            "Votos nulos = 0.0%\n"
          ]
        }
      ]
    }
  ]
}